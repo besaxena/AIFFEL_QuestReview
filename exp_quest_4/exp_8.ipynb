{
 "cells": [
  {
   "cell_type": "code",
   "execution_count": 1,
   "id": "f346a850",
   "metadata": {},
   "outputs": [
    {
     "name": "stdout",
     "output_type": "stream",
     "text": [
      "1.3.3\n",
      "0.5.2\n",
      "4.1.2\n"
     ]
    }
   ],
   "source": [
    "import pandas\n",
    "import konlpy\n",
    "import gensim\n",
    "\n",
    "print(pandas.__version__)\n",
    "print(konlpy.__version__)\n",
    "print(gensim.__version__)"
   ]
  },
  {
   "cell_type": "code",
   "execution_count": 37,
   "id": "596f2f3c",
   "metadata": {},
   "outputs": [],
   "source": [
    "import pandas as pd\n",
    "\n",
    "from konlpy.tag import Mecab\n",
    "import numpy as np\n",
    "from collections import Counter\n",
    "\n",
    "from tensorflow import keras\n",
    "import tensorflow as tf\n",
    "import os\n",
    "\n",
    "import matplotlib.pyplot as plt\n",
    "\n",
    "from gensim.models.keyedvectors import Word2VecKeyedVectors\n",
    "\n",
    "from gensim.models import KeyedVectors\n",
    "\n",
    "from tensorflow.keras.initializers import Constant\n",
    "import pprint\n",
    "\n",
    "import gensim\n",
    "import gensim.models"
   ]
  },
  {
   "cell_type": "markdown",
   "id": "a9a94644",
   "metadata": {},
   "source": [
    "## 1) 데이터 준비와 확인"
   ]
  },
  {
   "cell_type": "code",
   "execution_count": 38,
   "id": "09ee4c22",
   "metadata": {},
   "outputs": [
    {
     "data": {
      "text/html": [
       "<div>\n",
       "<style scoped>\n",
       "    .dataframe tbody tr th:only-of-type {\n",
       "        vertical-align: middle;\n",
       "    }\n",
       "\n",
       "    .dataframe tbody tr th {\n",
       "        vertical-align: top;\n",
       "    }\n",
       "\n",
       "    .dataframe thead th {\n",
       "        text-align: right;\n",
       "    }\n",
       "</style>\n",
       "<table border=\"1\" class=\"dataframe\">\n",
       "  <thead>\n",
       "    <tr style=\"text-align: right;\">\n",
       "      <th></th>\n",
       "      <th>id</th>\n",
       "      <th>document</th>\n",
       "      <th>label</th>\n",
       "    </tr>\n",
       "  </thead>\n",
       "  <tbody>\n",
       "    <tr>\n",
       "      <th>0</th>\n",
       "      <td>9976970</td>\n",
       "      <td>아 더빙.. 진짜 짜증나네요 목소리</td>\n",
       "      <td>0</td>\n",
       "    </tr>\n",
       "    <tr>\n",
       "      <th>1</th>\n",
       "      <td>3819312</td>\n",
       "      <td>흠...포스터보고 초딩영화줄....오버연기조차 가볍지 않구나</td>\n",
       "      <td>1</td>\n",
       "    </tr>\n",
       "    <tr>\n",
       "      <th>2</th>\n",
       "      <td>10265843</td>\n",
       "      <td>너무재밓었다그래서보는것을추천한다</td>\n",
       "      <td>0</td>\n",
       "    </tr>\n",
       "    <tr>\n",
       "      <th>3</th>\n",
       "      <td>9045019</td>\n",
       "      <td>교도소 이야기구먼 ..솔직히 재미는 없다..평점 조정</td>\n",
       "      <td>0</td>\n",
       "    </tr>\n",
       "    <tr>\n",
       "      <th>4</th>\n",
       "      <td>6483659</td>\n",
       "      <td>사이몬페그의 익살스런 연기가 돋보였던 영화!스파이더맨에서 늙어보이기만 했던 커스틴 ...</td>\n",
       "      <td>1</td>\n",
       "    </tr>\n",
       "  </tbody>\n",
       "</table>\n",
       "</div>"
      ],
      "text/plain": [
       "         id                                           document  label\n",
       "0   9976970                                아 더빙.. 진짜 짜증나네요 목소리      0\n",
       "1   3819312                  흠...포스터보고 초딩영화줄....오버연기조차 가볍지 않구나      1\n",
       "2  10265843                                  너무재밓었다그래서보는것을추천한다      0\n",
       "3   9045019                      교도소 이야기구먼 ..솔직히 재미는 없다..평점 조정      0\n",
       "4   6483659  사이몬페그의 익살스런 연기가 돋보였던 영화!스파이더맨에서 늙어보이기만 했던 커스틴 ...      1"
      ]
     },
     "execution_count": 38,
     "metadata": {},
     "output_type": "execute_result"
    }
   ],
   "source": [
    "import pandas as pd\n",
    "\n",
    "# 데이터를 읽어봅시다. \n",
    "train_data = pd.read_table('~/aiffel/sentiment_classification/data/ratings_train.txt')\n",
    "test_data = pd.read_table('~/aiffel/sentiment_classification/data/ratings_test.txt')\n",
    "\n",
    "train_data.head()"
   ]
  },
  {
   "cell_type": "markdown",
   "id": "b52632c4",
   "metadata": {},
   "source": [
    "## 2) 데이터로더 구성\n",
    "\n",
    "실습 때 다루었던 IMDB 데이터셋은 텍스트를 가공하여 imdb.data_loader() 메서드를 호출하면 숫자 인덱스로 변환된 텍스트와 word_to_index 딕셔너리까지 친절하게 제공합니다. 그러나 이번에 다루게 될 nsmc 데이터셋은 전혀 가공되지 않은 텍스트 파일로 이루어져 있습니다. 이것을 읽어서 imdb.data_loader()와 동일하게 동작하는 자신만의 data_loader를 만들어 보는 것으로 시작합니다. data_loader 안에서는 다음을 수행해야 합니다.\n",
    "\n",
    "- 데이터의 중복 제거\n",
    "- NaN 결측치 제거\n",
    "- 한국어 토크나이저로 토큰화\n",
    "- 불용어(Stopwords) 제거\n",
    "- 사전word_to_index 구성\n",
    "- 텍스트 스트링을 사전 인덱스 스트링으로 변환\n",
    "- X_train, y_train, X_test, y_test, word_to_index 리턴"
   ]
  },
  {
   "cell_type": "code",
   "execution_count": 39,
   "id": "113d0390",
   "metadata": {},
   "outputs": [],
   "source": [
    "tokenizer = Mecab()\n",
    "stopwords = ['의','가','이','은','들','는','좀','잘','걍','과','도','를','으로','자','에','와','한','하다']\n",
    "\n",
    "def load_data(train_data, test_data, num_words=10000):\n",
    "    train_data.drop_duplicates(subset=['document'], inplace=True)\n",
    "    train_data = train_data.dropna(how = 'any') \n",
    "    test_data.drop_duplicates(subset=['document'], inplace=True)\n",
    "    test_data = test_data.dropna(how = 'any') \n",
    "    \n",
    "    X_train = []\n",
    "    \n",
    "    for sentence in train_data['document']:\n",
    "        temp_X = tokenizer.morphs(sentence) # 토큰화\n",
    "        temp_X = [word for word in temp_X if not word in stopwords] # 불용어 제거\n",
    "        X_train.append(temp_X)\n",
    "\n",
    "    X_test = []\n",
    "    \n",
    "    for sentence in test_data['document']:\n",
    "        temp_X = tokenizer.morphs(sentence) # 토큰화\n",
    "        temp_X = [word for word in temp_X if not word in stopwords] # 불용어 제거\n",
    "        X_test.append(temp_X)\n",
    "    \n",
    "    words = np.concatenate(X_train).tolist()\n",
    "    counter = Counter(words)\n",
    "    counter = counter.most_common(10000-4)\n",
    "    vocab = ['<PAD>', '<BOS>', '<UNK>', '<UNUSED>'] + [key for key, _ in counter]  #인덱스 정의\n",
    "    word_to_index = {word:index for index, word in enumerate(vocab)}\n",
    "        \n",
    "    def wordlist_to_indexlist(wordlist):\n",
    "        return [word_to_index[word] if word in word_to_index else word_to_index['<UNK>'] for word in wordlist]  #unknown으로 반환\n",
    "        \n",
    "    X_train = list(map(wordlist_to_indexlist, X_train))\n",
    "    X_test = list(map(wordlist_to_indexlist, X_test))\n",
    "        \n",
    "    return X_train, np.array(list(train_data['label'])), X_test, np.array(list(test_data['label'])), word_to_index\n",
    "    \n",
    "X_train, y_train, X_test, y_test, word_to_index = load_data(train_data, test_data)"
   ]
  },
  {
   "cell_type": "code",
   "execution_count": 40,
   "id": "3f2616f2",
   "metadata": {},
   "outputs": [],
   "source": [
    "index_to_word = {index:word for word, index in word_to_index.items()}"
   ]
  },
  {
   "cell_type": "code",
   "execution_count": 41,
   "id": "e466e906",
   "metadata": {},
   "outputs": [],
   "source": [
    "# 문장 1개를 활용할 딕셔너리와 함께 주면, 단어 인덱스 리스트 벡터로 변환해 주는 함수입니다. \n",
    "# 단, 모든 문장은 <BOS>로 시작하는 것으로 합니다. \n",
    "def get_encoded_sentence(sentence, word_to_index):\n",
    "    return [word_to_index['<BOS>']]+[word_to_index[word] if word in word_to_index else word_to_index['<UNK>'] for word in sentence.split()]\n",
    "\n",
    "# 여러 개의 문장 리스트를 한꺼번에 단어 인덱스 리스트 벡터로 encode해 주는 함수입니다. \n",
    "def get_encoded_sentences(sentences, word_to_index):\n",
    "    return [get_encoded_sentence(sentence, word_to_index) for sentence in sentences]\n",
    "\n",
    "# 숫자 벡터로 encode된 문장을 원래대로 decode하는 함수입니다. \n",
    "def get_decoded_sentence(encoded_sentence, index_to_word):\n",
    "    return ' '.join(index_to_word[index] if index in index_to_word else '<UNK>' for index in encoded_sentence[1:])  #[1:]를 통해 <BOS>를 제외\n",
    "\n",
    "# 여러 개의 숫자 벡터로 encode된 문장을 한꺼번에 원래대로 decode하는 함수입니다. \n",
    "def get_decoded_sentences(encoded_sentences, index_to_word):\n",
    "    return [get_decoded_sentence(encoded_sentence, index_to_word) for encoded_sentence in encoded_sentences]"
   ]
  },
  {
   "cell_type": "markdown",
   "id": "e0875b48",
   "metadata": {},
   "source": [
    "## 3) 모델 구성을 위한 데이터 분석 및 가공\n",
    "- 데이터셋 내 문장 길이 분포\n",
    "- 적절한 최대 문장 길이 지정\n",
    "- keras.preprocessing.sequence.pad_sequences 을 활용한 패딩 추가"
   ]
  },
  {
   "cell_type": "code",
   "execution_count": 42,
   "id": "b205e76a",
   "metadata": {},
   "outputs": [
    {
     "name": "stdout",
     "output_type": "stream",
     "text": [
      "문장길이 평균 :  15.96940191154864\n",
      "문장길이 최대 :  116\n",
      "문장길이 표준편차 :  12.843571191092\n"
     ]
    }
   ],
   "source": [
    "total_data_text = list(X_train) + list(X_test)\n",
    "\n",
    "# 텍스트데이터 문장길이의 리스트를 생성한 후\n",
    "num_tokens = [len(tokens) for tokens in total_data_text]\n",
    "num_tokens = np.array(num_tokens)\n",
    "\n",
    "# 문장길이의 평균값, 최대값, 표준편차를 계산해 본다. \n",
    "print('문장길이 평균 : ', np.mean(num_tokens))\n",
    "print('문장길이 최대 : ', np.max(num_tokens))\n",
    "print('문장길이 표준편차 : ', np.std(num_tokens))\n"
   ]
  },
  {
   "cell_type": "code",
   "execution_count": 8,
   "id": "d9c5b238",
   "metadata": {},
   "outputs": [
    {
     "data": {
      "text/plain": [
       "(array([8.5250e+03, 4.0698e+04, 4.2547e+04, 3.2489e+04, 2.3485e+04,\n",
       "        1.3847e+04, 7.4350e+03, 3.8870e+03, 4.0800e+03, 3.3580e+03,\n",
       "        2.7770e+03, 2.2930e+03, 2.1500e+03, 2.3170e+03, 1.7190e+03,\n",
       "        1.8410e+03, 1.1110e+03, 4.8800e+02, 1.8600e+02, 7.1000e+01,\n",
       "        2.1000e+01, 5.0000e+00, 4.0000e+00, 0.0000e+00, 1.0000e+00,\n",
       "        0.0000e+00, 0.0000e+00, 2.0000e+00, 0.0000e+00, 2.0000e+00]),\n",
       " array([  0.        ,   3.86666667,   7.73333333,  11.6       ,\n",
       "         15.46666667,  19.33333333,  23.2       ,  27.06666667,\n",
       "         30.93333333,  34.8       ,  38.66666667,  42.53333333,\n",
       "         46.4       ,  50.26666667,  54.13333333,  58.        ,\n",
       "         61.86666667,  65.73333333,  69.6       ,  73.46666667,\n",
       "         77.33333333,  81.2       ,  85.06666667,  88.93333333,\n",
       "         92.8       ,  96.66666667, 100.53333333, 104.4       ,\n",
       "        108.26666667, 112.13333333, 116.        ]),\n",
       " <BarContainer object of 30 artists>)"
      ]
     },
     "execution_count": 8,
     "metadata": {},
     "output_type": "execute_result"
    },
    {
     "data": {
      "image/png": "[encoded data removed]",
      "text/plain": [
       "<Figure size 1080x288 with 1 Axes>"
      ]
     },
     "metadata": {
      "needs_background": "light"
     },
     "output_type": "display_data"
    }
   ],
   "source": [
    "import seaborn as sns\n",
    "import matplotlib.pyplot as plt\n",
    "# num_tokens\n",
    "plt.figure(figsize=(15,4))\n",
    "plt.hist(num_tokens, bins=30)\n",
    "\n",
    "# 문장 내 단어의 경우 7~15개 사이로 포진되어있는 것을 확인"
   ]
  },
  {
   "cell_type": "code",
   "execution_count": 43,
   "id": "527aa6f9",
   "metadata": {},
   "outputs": [
    {
     "name": "stdout",
     "output_type": "stream",
     "text": [
      "pad_sequences maxlen :  67\n",
      "전체 문장의 0.99755809131817%가 maxlen 설정값 이내에 포함됩니다. \n"
     ]
    }
   ],
   "source": [
    "# 전체의 90% 수준인 67정도로 max_len 설정\n",
    "# 전체의 90% 수준안 32정도로 진행했을 경우 acc는 85% 정도로 보임 (1차 진행 결과) \n",
    "max_tokens = np.mean(num_tokens) + 4 * np.std(num_tokens)\n",
    "maxlen = int(max_tokens) # 최대 길이\n",
    "print('pad_sequences maxlen : ', maxlen)\n",
    "print('전체 문장의 {}%가 maxlen 설정값 이내에 포함됩니다. '.format(np.sum(num_tokens < max_tokens) / len(num_tokens)))"
   ]
  },
  {
   "cell_type": "code",
   "execution_count": 44,
   "id": "8613763f",
   "metadata": {},
   "outputs": [],
   "source": [
    "#keras.preprocessing.sequence.pad_sequences 을 활용한 패딩 추가 (pre)\n",
    "X_train = keras.preprocessing.sequence.pad_sequences(X_train,\n",
    "                                                        value=word_to_index[\"<PAD>\"],\n",
    "                                                        padding='pre',\n",
    "                                                        maxlen=maxlen)\n",
    "\n",
    "X_test = keras.preprocessing.sequence.pad_sequences(X_test,\n",
    "                                                       value=word_to_index[\"<PAD>\"],\n",
    "                                                       padding='pre',\n",
    "                                                       maxlen=maxlen)\n"
   ]
  },
  {
   "cell_type": "markdown",
   "id": "5623bf9c",
   "metadata": {},
   "source": [
    "## 4) 모델 구성 및 validation set 구성\n",
    "모델은 3가지 이상 다양하게 구성하여 실험해 보세요.\n",
    "\n",
    "- lstm을 통한 리뷰감성분석\n",
    "- Cnn을 통한 리뷰 감성분석\n",
    "- BIlstm을 통한 리뷰 감성분석"
   ]
  },
  {
   "cell_type": "markdown",
   "id": "ac6ff11a",
   "metadata": {},
   "source": [
    "### LSTM"
   ]
  },
  {
   "cell_type": "code",
   "execution_count": 34,
   "id": "7d23ea06",
   "metadata": {},
   "outputs": [
    {
     "name": "stdout",
     "output_type": "stream",
     "text": [
      "Model: \"sequential_6\"\n",
      "_________________________________________________________________\n",
      "Layer (type)                 Output Shape              Param #   \n",
      "=================================================================\n",
      "embedding_6 (Embedding)      (None, None, 16)          160000    \n",
      "_________________________________________________________________\n",
      "lstm_4 (LSTM)                (None, 8)                 800       \n",
      "_________________________________________________________________\n",
      "dense_10 (Dense)             (None, 8)                 72        \n",
      "_________________________________________________________________\n",
      "dense_11 (Dense)             (None, 1)                 9         \n",
      "=================================================================\n",
      "Total params: 160,881\n",
      "Trainable params: 160,881\n",
      "Non-trainable params: 0\n",
      "_________________________________________________________________\n"
     ]
    }
   ],
   "source": [
    "# LSTM acc 82.4\n",
    "vocab_size = 10000    # 어휘 사전의 크기입니다(10,000개의 단어)\n",
    "word_vector_dim = 16  # 워드 벡터의 차원 수 (변경 가능한 하이퍼파라미터)\n",
    "\n",
    "# model 설계\n",
    "model = keras.Sequential()\n",
    "model.add(keras.layers.Embedding(vocab_size, word_vector_dim, input_shape=(None,)))\n",
    "model.add(keras.layers.LSTM(8))   # 가장 널리 쓰이는 RNN인 LSTM 레이어를 사용하였습니다. 이때 LSTM state 벡터의 차원수는 8로 하였습니다. (변경 가능)\n",
    "model.add(keras.layers.Dense(8, activation='relu'))\n",
    "model.add(keras.layers.Dense(1, activation='sigmoid'))  # 최종 출력은 긍정/부정을 나타내는 1dim 입니다.\n",
    "\n",
    "model.summary()"
   ]
  },
  {
   "cell_type": "markdown",
   "id": "0f2a716a",
   "metadata": {},
   "source": [
    "### Bi_LSTM"
   ]
  },
  {
   "cell_type": "code",
   "execution_count": 35,
   "id": "8194995f",
   "metadata": {},
   "outputs": [
    {
     "name": "stdout",
     "output_type": "stream",
     "text": [
      "Model: \"sequential_7\"\n",
      "_________________________________________________________________\n",
      "Layer (type)                 Output Shape              Param #   \n",
      "=================================================================\n",
      "embedding_7 (Embedding)      (None, None, 16)          160000    \n",
      "_________________________________________________________________\n",
      "bidirectional_2 (Bidirection (None, 256)               148480    \n",
      "_________________________________________________________________\n",
      "dense_12 (Dense)             (None, 8)                 2056      \n",
      "_________________________________________________________________\n",
      "dense_13 (Dense)             (None, 1)                 9         \n",
      "=================================================================\n",
      "Total params: 310,545\n",
      "Trainable params: 310,545\n",
      "Non-trainable params: 0\n",
      "_________________________________________________________________\n"
     ]
    }
   ],
   "source": [
    "#BI_LSTM acc 82.5\n",
    "\n",
    "import re\n",
    "from tensorflow.keras.layers import Embedding, Dense, LSTM, Bidirectional\n",
    "from tensorflow.keras.models import Sequential\n",
    "from tensorflow.keras.models import load_model\n",
    "from tensorflow.keras.callbacks import EarlyStopping, ModelCheckpoint\n",
    "\n",
    "embedding_dim = 100\n",
    "hidden_units = 128\n",
    "\n",
    "model_2 = keras.Sequential()\n",
    "model_2.add(keras.layers.Embedding(vocab_size, word_vector_dim, input_shape=(None,)))\n",
    "model_2.add(keras.layers.Bidirectional(LSTM(hidden_units))) # Bidirectional LSTM을 사용\n",
    "model_2.add(keras.layers.Dense(8, activation='relu'))\n",
    "model_2.add(keras.layers.Dense(1, activation='sigmoid'))\n",
    "\n",
    "\n",
    "model_2.summary()"
   ]
  },
  {
   "cell_type": "markdown",
   "id": "9dea4e6e",
   "metadata": {},
   "source": [
    "### 1-D CNN"
   ]
  },
  {
   "cell_type": "code",
   "execution_count": 13,
   "id": "52fe9bde",
   "metadata": {},
   "outputs": [
    {
     "name": "stdout",
     "output_type": "stream",
     "text": [
      "Model: \"sequential_2\"\n",
      "_________________________________________________________________\n",
      "Layer (type)                 Output Shape              Param #   \n",
      "=================================================================\n",
      "embedding_2 (Embedding)      (None, None, 16)          160000    \n",
      "_________________________________________________________________\n",
      "conv1d (Conv1D)              (None, None, 16)          1808      \n",
      "_________________________________________________________________\n",
      "max_pooling1d (MaxPooling1D) (None, None, 16)          0         \n",
      "_________________________________________________________________\n",
      "conv1d_1 (Conv1D)            (None, None, 16)          1808      \n",
      "_________________________________________________________________\n",
      "global_max_pooling1d (Global (None, 16)                0         \n",
      "_________________________________________________________________\n",
      "dense_4 (Dense)              (None, 8)                 136       \n",
      "_________________________________________________________________\n",
      "dense_5 (Dense)              (None, 1)                 9         \n",
      "=================================================================\n",
      "Total params: 163,761\n",
      "Trainable params: 163,761\n",
      "Non-trainable params: 0\n",
      "_________________________________________________________________\n"
     ]
    }
   ],
   "source": [
    "#1-D CNN\n",
    "vocab_size = 10000    # 어휘 사전의 크기입니다(10,000개의 단어)\n",
    "word_vector_dim = 16  # 워드 벡터의 차원 수 (변경 가능한 하이퍼파라미터)\n",
    "\n",
    "# model 설계\n",
    "model_3 = keras.Sequential()\n",
    "model_3.add(keras.layers.Embedding(vocab_size, word_vector_dim, input_shape=(None,)))\n",
    "model_3.add(keras.layers.Conv1D(16, 7, activation='relu'))\n",
    "model_3.add(keras.layers.MaxPooling1D(5))\n",
    "model_3.add(keras.layers.Conv1D(16, 7, activation='relu'))\n",
    "model_3.add(keras.layers.GlobalMaxPooling1D())\n",
    "model_3.add(keras.layers.Dense(8, activation='relu'))\n",
    "model_3.add(keras.layers.Dense(1, activation='sigmoid'))  # 최종 출력은 긍정/부정을 나타내는 1dim 입니다.\n",
    "\n",
    "model_3.summary()"
   ]
  },
  {
   "cell_type": "code",
   "execution_count": 30,
   "id": "1ebcda56",
   "metadata": {},
   "outputs": [
    {
     "name": "stdout",
     "output_type": "stream",
     "text": [
      "(136182, 67)\n",
      "(136182,)\n"
     ]
    }
   ],
   "source": [
    "# validation set 10000건 분리\n",
    "X_val = X_train[:10000]   \n",
    "y_val = y_train[:10000]\n",
    "\n",
    "# validation set을 제외한 나머지 15000건\n",
    "partial_X_train = X_train[10000:]  \n",
    "partial_y_train = y_train[10000:]\n",
    "\n",
    "print(partial_X_train.shape)\n",
    "print(partial_y_train.shape)"
   ]
  },
  {
   "cell_type": "markdown",
   "id": "8d8381f7",
   "metadata": {},
   "source": [
    "## 5) 모델 훈련 개시"
   ]
  },
  {
   "cell_type": "code",
   "execution_count": 45,
   "id": "484380e7",
   "metadata": {},
   "outputs": [],
   "source": [
    "def model_train(a,epoch,batch):\n",
    "    a.compile(optimizer='adam',\n",
    "              loss='binary_crossentropy',\n",
    "              metrics=['accuracy'])\n",
    "              \n",
    "    epochs=epoch\n",
    "\n",
    "    history = model.fit(partial_X_train,\n",
    "                        partial_y_train,\n",
    "                        epochs=epochs,\n",
    "                        batch_size=batch,\n",
    "                        validation_data=(X_val, y_val),\n",
    "                        verbose=1)\n",
    "    print(\"-----------\")\n",
    "    results = model.evaluate(X_test,  y_test, verbose=2)\n",
    "\n",
    "    print('test_loss : '+ str(results[0]))\n",
    "    print('test_auc : '+ str(results[1]))\n",
    "    \n",
    "    print(\"-----------\")\n",
    "    \n",
    "    history_dict = history.history\n",
    "    \n",
    "    #loss graph 시각화\n",
    "    acc = history_dict['accuracy']\n",
    "    val_acc = history_dict['val_accuracy']\n",
    "    loss = history_dict['loss']\n",
    "    val_loss = history_dict['val_loss']\n",
    "\n",
    "    epochs = range(1, len(acc) + 1)\n",
    "\n",
    "    # \"bo\"는 \"파란색 점\"입니다\n",
    "    plt.plot(epochs, loss, 'bo', label='Training loss')\n",
    "    # b는 \"파란 실선\"입니다\n",
    "    plt.plot(epochs, val_loss, 'b', label='Validation loss')\n",
    "    plt.title('Training and validation loss')\n",
    "    plt.xlabel('Epochs')\n",
    "    plt.ylabel('Loss')\n",
    "    plt.legend()\n",
    "\n",
    "    plt.show()\n",
    "    \n",
    "    #auc graph 시각화\n",
    "    plt.clf()   # 그림을 초기화합니다\n",
    "\n",
    "    plt.plot(epochs, acc, 'bo', label='Training acc')\n",
    "    plt.plot(epochs, val_acc, 'b', label='Validation acc')\n",
    "    plt.title('Training and validation accuracy')\n",
    "    plt.xlabel('Epochs')\n",
    "    plt.ylabel('Accuracy')\n",
    "    plt.legend()\n",
    "\n",
    "    plt.show()\n",
    "    \n",
    "    return"
   ]
  },
  {
   "cell_type": "code",
   "execution_count": 32,
   "id": "68735e6d",
   "metadata": {},
   "outputs": [
    {
     "name": "stdout",
     "output_type": "stream",
     "text": [
      "Epoch 1/5\n",
      "2128/2128 [==============================] - 15s 6ms/step - loss: 0.4444 - accuracy: 0.8131 - val_loss: 0.3517 - val_accuracy: 0.8499\n",
      "Epoch 2/5\n",
      "2128/2128 [==============================] - 11s 5ms/step - loss: 0.3293 - accuracy: 0.8608 - val_loss: 0.3319 - val_accuracy: 0.8565\n",
      "Epoch 3/5\n",
      "2128/2128 [==============================] - 11s 5ms/step - loss: 0.2990 - accuracy: 0.8736 - val_loss: 0.3255 - val_accuracy: 0.8603\n",
      "Epoch 4/5\n",
      "2128/2128 [==============================] - 11s 5ms/step - loss: 0.2708 - accuracy: 0.8866 - val_loss: 0.3267 - val_accuracy: 0.8607\n",
      "Epoch 5/5\n",
      "2128/2128 [==============================] - 11s 5ms/step - loss: 0.2465 - accuracy: 0.8978 - val_loss: 0.3261 - val_accuracy: 0.8626\n",
      "-----------\n",
      "1537/1537 - 3s - loss: 0.3372 - accuracy: 0.8573\n",
      "test_loss : 0.3371568024158478\n",
      "test_auc : 0.8573346734046936\n",
      "-----------\n"
     ]
    },
    {
     "data": {
      "image/png": "[encoded data removed]",
      "text/plain": [
       "<Figure size 432x288 with 1 Axes>"
      ]
     },
     "metadata": {
      "needs_background": "light"
     },
     "output_type": "display_data"
    },
    {
     "data": {
      "image/png": "[encoded data removed]",
      "text/plain": [
       "<Figure size 432x288 with 1 Axes>"
      ]
     },
     "metadata": {
      "needs_background": "light"
     },
     "output_type": "display_data"
    }
   ],
   "source": [
    "#lstm\n",
    "model_train(model,5,64)"
   ]
  },
  {
   "cell_type": "code",
   "execution_count": 113,
   "id": "6448d5f8",
   "metadata": {},
   "outputs": [
    {
     "name": "stdout",
     "output_type": "stream",
     "text": [
      "Epoch 1/10\n",
      "266/266 [==============================] - 2s 6ms/step - loss: 0.1334 - accuracy: 0.9503 - val_loss: 0.6239 - val_accuracy: 0.8389\n",
      "Epoch 2/10\n",
      "266/266 [==============================] - 2s 6ms/step - loss: 0.1301 - accuracy: 0.9520 - val_loss: 0.6590 - val_accuracy: 0.8372\n",
      "Epoch 3/10\n",
      "266/266 [==============================] - 2s 6ms/step - loss: 0.1262 - accuracy: 0.9535 - val_loss: 0.6884 - val_accuracy: 0.8404\n",
      "Epoch 4/10\n",
      "266/266 [==============================] - 2s 6ms/step - loss: 0.1226 - accuracy: 0.9555 - val_loss: 0.7338 - val_accuracy: 0.8406\n",
      "Epoch 5/10\n",
      "266/266 [==============================] - 2s 6ms/step - loss: 0.1206 - accuracy: 0.9559 - val_loss: 0.7449 - val_accuracy: 0.8393\n",
      "Epoch 6/10\n",
      "266/266 [==============================] - 2s 6ms/step - loss: 0.1158 - accuracy: 0.9576 - val_loss: 0.7657 - val_accuracy: 0.8370\n",
      "Epoch 7/10\n",
      "266/266 [==============================] - 2s 6ms/step - loss: 0.1150 - accuracy: 0.9581 - val_loss: 0.7774 - val_accuracy: 0.8374\n",
      "Epoch 8/10\n",
      "266/266 [==============================] - 2s 6ms/step - loss: 0.1097 - accuracy: 0.9610 - val_loss: 0.7873 - val_accuracy: 0.8395\n",
      "Epoch 9/10\n",
      "266/266 [==============================] - 2s 6ms/step - loss: 0.1085 - accuracy: 0.9607 - val_loss: 0.7953 - val_accuracy: 0.8370\n",
      "Epoch 10/10\n",
      "266/266 [==============================] - 2s 6ms/step - loss: 0.1077 - accuracy: 0.9607 - val_loss: 0.8223 - val_accuracy: 0.8396\n",
      "-----------\n",
      "1537/1537 - 3s - loss: 0.8262 - accuracy: 0.8354\n",
      "test_loss : 0.8261616826057434\n",
      "test_auc : 0.8354456424713135\n",
      "-----------\n"
     ]
    },
    {
     "data": {
      "image/png": "[encoded data removed]",
      "text/plain": [
       "<Figure size 432x288 with 1 Axes>"
      ]
     },
     "metadata": {
      "needs_background": "light"
     },
     "output_type": "display_data"
    },
    {
     "data": {
      "image/png": "[encoded data removed]",
      "text/plain": [
       "<Figure size 432x288 with 1 Axes>"
      ]
     },
     "metadata": {
      "needs_background": "light"
     },
     "output_type": "display_data"
    }
   ],
   "source": [
    "# BI_LSTM\n",
    "model_train(model_2,10,512)"
   ]
  },
  {
   "cell_type": "code",
   "execution_count": 36,
   "id": "7a1cc7ce",
   "metadata": {},
   "outputs": [
    {
     "name": "stdout",
     "output_type": "stream",
     "text": [
      "Epoch 1/10\n",
      "266/266 [==============================] - 2s 6ms/step - loss: 0.2121 - accuracy: 0.9149 - val_loss: 0.3604 - val_accuracy: 0.8580\n",
      "Epoch 2/10\n",
      "266/266 [==============================] - 2s 6ms/step - loss: 0.2046 - accuracy: 0.9184 - val_loss: 0.3703 - val_accuracy: 0.8570\n",
      "Epoch 3/10\n",
      "266/266 [==============================] - 2s 6ms/step - loss: 0.1992 - accuracy: 0.9206 - val_loss: 0.3811 - val_accuracy: 0.8554\n",
      "Epoch 4/10\n",
      "266/266 [==============================] - 2s 6ms/step - loss: 0.1949 - accuracy: 0.9224 - val_loss: 0.3904 - val_accuracy: 0.8555\n",
      "Epoch 5/10\n",
      "266/266 [==============================] - 2s 6ms/step - loss: 0.1904 - accuracy: 0.9247 - val_loss: 0.4006 - val_accuracy: 0.8539\n",
      "Epoch 6/10\n",
      "266/266 [==============================] - 2s 6ms/step - loss: 0.1854 - accuracy: 0.9270 - val_loss: 0.4068 - val_accuracy: 0.8506\n",
      "Epoch 7/10\n",
      "266/266 [==============================] - 2s 6ms/step - loss: 0.1807 - accuracy: 0.9295 - val_loss: 0.4146 - val_accuracy: 0.8524\n",
      "Epoch 8/10\n",
      "266/266 [==============================] - 2s 6ms/step - loss: 0.1776 - accuracy: 0.9311 - val_loss: 0.4293 - val_accuracy: 0.8504\n",
      "Epoch 9/10\n",
      "266/266 [==============================] - 2s 6ms/step - loss: 0.1756 - accuracy: 0.9316 - val_loss: 0.4381 - val_accuracy: 0.8519\n",
      "Epoch 10/10\n",
      "266/266 [==============================] - 2s 6ms/step - loss: 0.1675 - accuracy: 0.9359 - val_loss: 0.4515 - val_accuracy: 0.8514\n",
      "-----------\n",
      "1537/1537 - 3s - loss: 0.4672 - accuracy: 0.8435\n",
      "test_loss : 0.4672032594680786\n",
      "test_auc : 0.8434810638427734\n",
      "-----------\n"
     ]
    },
    {
     "data": {
      "image/png": "[encoded data removed]",
      "text/plain": [
       "<Figure size 432x288 with 1 Axes>"
      ]
     },
     "metadata": {
      "needs_background": "light"
     },
     "output_type": "display_data"
    },
    {
     "data": {
      "image/png": "[encoded data removed]",
      "text/plain": [
       "<Figure size 432x288 with 1 Axes>"
      ]
     },
     "metadata": {
      "needs_background": "light"
     },
     "output_type": "display_data"
    }
   ],
   "source": [
    "#1-D Convolution Neural Network(1-D CNN)모델\n",
    "model_train(model_3,10,512)"
   ]
  },
  {
   "cell_type": "markdown",
   "id": "f4c660be",
   "metadata": {},
   "source": [
    "### 7) 학습된 Embedding 레이어 분석"
   ]
  },
  {
   "cell_type": "code",
   "execution_count": 15,
   "id": "1f89dc1c",
   "metadata": {},
   "outputs": [],
   "source": [
    "from gensim.models.keyedvectors import Word2VecKeyedVectors\n",
    "\n",
    "def embedding_analyze(select_model, keyword):\n",
    "    embedding_layer = select_model.layers[0]\n",
    "    weights = embedding_layer.get_weights()[0]\n",
    "    \n",
    "    # 학습한 Embedding 파라미터를 파일에 써서 저장합니다. \n",
    "    word2vec_file_path = os.getenv('HOME')+'/aiffel/sentiment_classification/data/word2vec_cnn.txt'\n",
    "    f = open(word2vec_file_path, 'w')\n",
    "    f.write('{} {}\\n'.format(vocab_size-4, word_vector_dim))  # 몇개의 벡터를 얼마 사이즈로 기재할지 타이틀을 씁니다.\n",
    "\n",
    "    # 단어 개수(에서 특수문자 4개는 제외하고)만큼의 워드 벡터를 파일에 기록합니다. \n",
    "    vectors = select_model.get_weights()[0]\n",
    "    for i in range(4,vocab_size):\n",
    "        f.write('{} {}\\n'.format(index_to_word[i], ' '.join(map(str, list(vectors[i, :])))))\n",
    "    f.close()\n",
    "    \n",
    "    word_vectors = Word2VecKeyedVectors.load_word2vec_format(word2vec_file_path, binary=False)\n",
    "    vector = word_vectors[keyword]\n",
    "    \n",
    "    print(keyword)\n",
    "    print(vector)\n",
    "    print('유사어')\n",
    "    print(word_vectors.similar_by_word(keyword))\n",
    "    "
   ]
  },
  {
   "cell_type": "code",
   "execution_count": 18,
   "id": "1cf77290",
   "metadata": {},
   "outputs": [
    {
     "name": "stdout",
     "output_type": "stream",
     "text": [
      "LSTM 결과\n",
      "재미\n",
      "[ 0.0313375   0.03422682 -0.04766626  0.03382237 -0.01130565  0.0156507\n",
      "  0.03412005 -0.02787739 -0.0486041   0.02692199 -0.04319248  0.02048153\n",
      " -0.02035685  0.02163221 -0.00176562 -0.0087932 ]\n",
      "유사어\n",
      "[('써도', 0.8529578447341919), ('난생', 0.8141534924507141), ('연예계', 0.7994961142539978), ('기', 0.7850935459136963), ('마요', 0.7736622095108032), ('언젠간', 0.7472966909408569), ('이보영', 0.7403311133384705), ('푼', 0.7172853946685791), ('이브', 0.7152299880981445), ('지어다', 0.7066940665245056)]\n"
     ]
    }
   ],
   "source": [
    "print(\"LSTM 결과\")\n",
    "embedding_analyze(model,'재미')"
   ]
  },
  {
   "cell_type": "code",
   "execution_count": 17,
   "id": "1b3cab7b",
   "metadata": {},
   "outputs": [
    {
     "name": "stdout",
     "output_type": "stream",
     "text": [
      "BI_LSTM 결과\n",
      "재미\n",
      "[ 0.0185875  -0.04097668 -0.00777539 -0.00204594 -0.03041318  0.0358394\n",
      " -0.02659007  0.03447062  0.02536282 -0.02722623  0.03499616 -0.02222968\n",
      " -0.04609264 -0.048563   -0.03313947  0.01549294]\n",
      "유사어\n",
      "[('움직임', 0.779560387134552), ('진실', 0.747739851474762), ('욜', 0.746534526348114), ('나름', 0.7386741042137146), ('일으킨', 0.730904221534729), ('발상', 0.7294308543205261), ('다잉', 0.7274775505065918), ('식스', 0.7200219035148621), ('J', 0.715254545211792), ('정려원', 0.7151606678962708)]\n"
     ]
    }
   ],
   "source": [
    "print(\"BI_LSTM 결과\")\n",
    "embedding_analyze(model_2,\"재미\")"
   ]
  },
  {
   "cell_type": "code",
   "execution_count": 126,
   "id": "feb22a5c",
   "metadata": {},
   "outputs": [
    {
     "name": "stdout",
     "output_type": "stream",
     "text": [
      "CNN 결과\n",
      "재미\n",
      "[ 0.03977204 -0.03177086  0.02701112 -0.03080372  0.00156092 -0.02524379\n",
      "  0.02755201 -0.02778621 -0.01376625 -0.00317897  0.02007485 -0.02376372\n",
      " -0.02839993 -0.03904442  0.01615189 -0.01757161]\n",
      "유사어\n",
      "[('30', 0.7990280389785767), ('럼', 0.754493772983551), ('반열', 0.7463577389717102), ('스러움', 0.7332896590232849), ('레인', 0.7263188362121582), ('낚시', 0.7225335240364075), ('모순', 0.720977246761322), ('이연희', 0.7139936685562134), ('윤제문', 0.7059674859046936), ('인종', 0.7011597156524658)]\n"
     ]
    }
   ],
   "source": [
    "print(\"CNN 결과\")\n",
    "embedding_analyze(model_3,\"재미\")"
   ]
  },
  {
   "cell_type": "markdown",
   "id": "3f4f6aea",
   "metadata": {},
   "source": [
    "### 8) 한국어 W2V 임베딩을 활용하여 성능 개선\n",
    "- 한국어 W2V 임베딩을 활용하여 이전 학습보다 근소한 성능 개선을 보였음\n",
    "- 동일한 파라미터로 진행했을 경우 1~3%정도의 성능향상이 있는 것을 확인함\n",
    "- 동일한 코드를 다중 실행하여 이전 기록을 확인하긴 어렵지만 Bi_LSTM, LSTM의 성능차이는 아래와 같음\n",
    "    - LSTM auc 0.824 -> 0.835\n",
    "    - Bi-LSTM acu 0.825 -> 0.848\n",
    "- Bi-LSTM의 일부 셋팅값을 수정한 결과 0.8508까지 향상됨\n",
    "    - 기존 : (total params : 310,545, batch_size : 512, epochs : 50)\n",
    "    - 변경 : (total params : 1,234,753, batch_size : 512, epochs : 20)"
   ]
  },
  {
   "cell_type": "code",
   "execution_count": 46,
   "id": "07a1514a",
   "metadata": {},
   "outputs": [
    {
     "data": {
      "text/plain": [
       "[('묘미', 0.6163142919540405),\n",
       " ('취미', 0.6034970283508301),\n",
       " ('흥미', 0.5939850211143494),\n",
       " ('유머', 0.5888698101043701),\n",
       " ('보람', 0.5689517259597778),\n",
       " ('즐거움', 0.5631207823753357),\n",
       " ('개그', 0.5552946329116821),\n",
       " ('이야기', 0.5536993741989136),\n",
       " ('연애', 0.552293598651886),\n",
       " ('열의', 0.546456515789032)]"
      ]
     },
     "execution_count": 46,
     "metadata": {},
     "output_type": "execute_result"
    }
   ],
   "source": [
    "# 예시 코드\n",
    "from gensim.models.keyedvectors import Word2VecKeyedVectors\n",
    "\n",
    "word2vec_path = os.getenv('HOME')+'/data/word2vec_ko.model' \n",
    "word2vec = gensim.models.Word2Vec.load(word2vec_path)\n",
    "word_vectors = Word2VecKeyedVectors.load(word2vec_path)\n",
    "\n",
    "vector = word_vectors.wv[\"재미\"]\n",
    "word2vec.wv.similar_by_word(\"재미\")\n",
    "# print(vector)"
   ]
  },
  {
   "cell_type": "code",
   "execution_count": 47,
   "id": "d8a485be",
   "metadata": {},
   "outputs": [],
   "source": [
    "from tensorflow.keras.initializers import Constant\n",
    "\n",
    "vocab_size = 10000    # 어휘 사전의 크기입니다(10,000개의 단어)\n",
    "word_vector_dim = 100  # 워드 벡터의 차원수 \n",
    "embedding_matrix = np.random.rand(vocab_size, word_vector_dim)\n",
    "\n",
    "# embedding_matrix에 Word2Vec 워드 벡터를 단어 하나씩마다 차례차례 카피한다.\n",
    "for i in range(4,vocab_size):\n",
    "    if index_to_word[i] in word2vec.wv:\n",
    "        embedding_matrix[i] = word2vec.wv[index_to_word[i]]"
   ]
  },
  {
   "cell_type": "code",
   "execution_count": 48,
   "id": "2bfe51fd",
   "metadata": {},
   "outputs": [
    {
     "name": "stdout",
     "output_type": "stream",
     "text": [
      "Model: \"sequential_8\"\n",
      "_________________________________________________________________\n",
      "Layer (type)                 Output Shape              Param #   \n",
      "=================================================================\n",
      "embedding_8 (Embedding)      (None, 67, 100)           1000000   \n",
      "_________________________________________________________________\n",
      "lstm_6 (LSTM)                (None, 128)               117248    \n",
      "_________________________________________________________________\n",
      "dense_14 (Dense)             (None, 1)                 129       \n",
      "=================================================================\n",
      "Total params: 1,117,377\n",
      "Trainable params: 1,117,377\n",
      "Non-trainable params: 0\n",
      "_________________________________________________________________\n"
     ]
    }
   ],
   "source": [
    "# def model_train(a):\n",
    "    \n",
    "#Bi-LSTM 모델 구성\n",
    "model_4 = keras.Sequential()\n",
    "model_4.add(keras.layers.Embedding(vocab_size, \n",
    "                                 word_vector_dim, \n",
    "                                 embeddings_initializer=Constant(embedding_matrix),  #카피한 임베딩을 여기서 활용\n",
    "                                 input_length=maxlen, \n",
    "                                 trainable=True))   #trainable을 True로 주면 Fine-tuning\n",
    "model_4.add(keras.layers.LSTM(128))\n",
    "model_4.add(keras.layers.Dense(1, activation='sigmoid'))\n",
    "\n",
    "model_4.summary()"
   ]
  },
  {
   "cell_type": "code",
   "execution_count": 49,
   "id": "ef4a9c11",
   "metadata": {},
   "outputs": [
    {
     "name": "stdout",
     "output_type": "stream",
     "text": [
      "Model: \"sequential_9\"\n",
      "_________________________________________________________________\n",
      "Layer (type)                 Output Shape              Param #   \n",
      "=================================================================\n",
      "embedding_9 (Embedding)      (None, 67, 100)           1000000   \n",
      "_________________________________________________________________\n",
      "bidirectional_3 (Bidirection (None, 256)               234496    \n",
      "_________________________________________________________________\n",
      "dense_15 (Dense)             (None, 1)                 257       \n",
      "=================================================================\n",
      "Total params: 1,234,753\n",
      "Trainable params: 1,234,753\n",
      "Non-trainable params: 0\n",
      "_________________________________________________________________\n"
     ]
    }
   ],
   "source": [
    "#BI_LSTM 모델 구성\n",
    "model_5 = keras.Sequential()\n",
    "model_5.add(keras.layers.Embedding(vocab_size, \n",
    "                                 word_vector_dim, \n",
    "                                 embeddings_initializer=Constant(embedding_matrix),  #카피한 임베딩을 여기서 활용\n",
    "                                 input_length=maxlen, \n",
    "                                 trainable=True))   #trainable을 True로 주면 Fine-tuning\n",
    "model_5.add(keras.layers.Bidirectional(LSTM(128)))\n",
    "model_5.add(keras.layers.Dense(1, activation='sigmoid'))\n",
    "\n",
    "model_5.summary()"
   ]
  },
  {
   "cell_type": "code",
   "execution_count": 50,
   "id": "ef407956",
   "metadata": {},
   "outputs": [
    {
     "name": "stdout",
     "output_type": "stream",
     "text": [
      "Model: \"sequential_10\"\n",
      "_________________________________________________________________\n",
      "Layer (type)                 Output Shape              Param #   \n",
      "=================================================================\n",
      "embedding_10 (Embedding)     (None, 67, 100)           1000000   \n",
      "_________________________________________________________________\n",
      "conv1d_4 (Conv1D)            (None, 61, 16)            11216     \n",
      "_________________________________________________________________\n",
      "max_pooling1d_2 (MaxPooling1 (None, 12, 16)            0         \n",
      "_________________________________________________________________\n",
      "conv1d_5 (Conv1D)            (None, 6, 16)             1808      \n",
      "_________________________________________________________________\n",
      "global_max_pooling1d_2 (Glob (None, 16)                0         \n",
      "_________________________________________________________________\n",
      "dense_16 (Dense)             (None, 8)                 136       \n",
      "_________________________________________________________________\n",
      "dense_17 (Dense)             (None, 1)                 9         \n",
      "=================================================================\n",
      "Total params: 1,013,169\n",
      "Trainable params: 1,013,169\n",
      "Non-trainable params: 0\n",
      "_________________________________________________________________\n"
     ]
    }
   ],
   "source": [
    "#1-D CNN\n",
    "# model 설계\n",
    "model_6 = keras.Sequential()\n",
    "model_6.add(keras.layers.Embedding(vocab_size, \n",
    "                                 word_vector_dim, \n",
    "                                 embeddings_initializer=Constant(embedding_matrix),  #카피한 임베딩을 여기서 활용\n",
    "                                 input_length=maxlen, \n",
    "                                 trainable=True))   #trainable을 True로 주면 Fine-tuning\n",
    "# model_6.add(keras.layers.Embedding(vocab_size, word_vector_dim, input_shape=(None,)))\n",
    "model_6.add(keras.layers.Conv1D(16, 7, activation='relu'))\n",
    "model_6.add(keras.layers.MaxPooling1D(5))\n",
    "model_6.add(keras.layers.Conv1D(16, 7, activation='relu'))\n",
    "model_6.add(keras.layers.GlobalMaxPooling1D())\n",
    "model_6.add(keras.layers.Dense(8, activation='relu'))\n",
    "model_6.add(keras.layers.Dense(1, activation='sigmoid'))  # 최종 출력은 긍정/부정을 나타내는 1dim 입니다.\n",
    "\n",
    "model_6.summary()"
   ]
  },
  {
   "cell_type": "code",
   "execution_count": 33,
   "id": "2444a17e",
   "metadata": {
    "scrolled": true
   },
   "outputs": [
    {
     "name": "stdout",
     "output_type": "stream",
     "text": [
      "Epoch 1/20\n",
      "2128/2128 [==============================] - 11s 5ms/step - loss: 0.2242 - accuracy: 0.9083 - val_loss: 0.3332 - val_accuracy: 0.8618\n",
      "Epoch 2/20\n",
      "2128/2128 [==============================] - 11s 5ms/step - loss: 0.2066 - accuracy: 0.9170 - val_loss: 0.3485 - val_accuracy: 0.8612\n",
      "Epoch 3/20\n",
      "2128/2128 [==============================] - 11s 5ms/step - loss: 0.1915 - accuracy: 0.9239 - val_loss: 0.3804 - val_accuracy: 0.8606\n",
      "Epoch 4/20\n",
      "2128/2128 [==============================] - 11s 5ms/step - loss: 0.1776 - accuracy: 0.9304 - val_loss: 0.4069 - val_accuracy: 0.8588\n",
      "Epoch 5/20\n",
      "2128/2128 [==============================] - 11s 5ms/step - loss: 0.1664 - accuracy: 0.9353 - val_loss: 0.4019 - val_accuracy: 0.8574\n",
      "Epoch 6/20\n",
      "2128/2128 [==============================] - 11s 5ms/step - loss: 0.1537 - accuracy: 0.9411 - val_loss: 0.4484 - val_accuracy: 0.8542\n",
      "Epoch 7/20\n",
      "2128/2128 [==============================] - 11s 5ms/step - loss: 0.1454 - accuracy: 0.9445 - val_loss: 0.4611 - val_accuracy: 0.8540\n",
      "Epoch 8/20\n",
      "2128/2128 [==============================] - 12s 5ms/step - loss: 0.1377 - accuracy: 0.9482 - val_loss: 0.4786 - val_accuracy: 0.8521\n",
      "Epoch 9/20\n",
      "2128/2128 [==============================] - 11s 5ms/step - loss: 0.1278 - accuracy: 0.9525 - val_loss: 0.5051 - val_accuracy: 0.8502\n",
      "Epoch 10/20\n",
      "2128/2128 [==============================] - 11s 5ms/step - loss: 0.1219 - accuracy: 0.9550 - val_loss: 0.5441 - val_accuracy: 0.8474\n",
      "Epoch 11/20\n",
      "2128/2128 [==============================] - 11s 5ms/step - loss: 0.1146 - accuracy: 0.9577 - val_loss: 0.5636 - val_accuracy: 0.8454\n",
      "Epoch 12/20\n",
      "2128/2128 [==============================] - 11s 5ms/step - loss: 0.1093 - accuracy: 0.9600 - val_loss: 0.6018 - val_accuracy: 0.8477\n",
      "Epoch 13/20\n",
      "2128/2128 [==============================] - 11s 5ms/step - loss: 0.1033 - accuracy: 0.9626 - val_loss: 0.6314 - val_accuracy: 0.8430\n",
      "Epoch 14/20\n",
      "2128/2128 [==============================] - 11s 5ms/step - loss: 0.0986 - accuracy: 0.9641 - val_loss: 0.6460 - val_accuracy: 0.8448\n",
      "Epoch 15/20\n",
      "2128/2128 [==============================] - 11s 5ms/step - loss: 0.0939 - accuracy: 0.9654 - val_loss: 0.6617 - val_accuracy: 0.8413\n",
      "Epoch 16/20\n",
      "2128/2128 [==============================] - 11s 5ms/step - loss: 0.0914 - accuracy: 0.9671 - val_loss: 0.6766 - val_accuracy: 0.8409\n",
      "Epoch 17/20\n",
      "2128/2128 [==============================] - 11s 5ms/step - loss: 0.0884 - accuracy: 0.9682 - val_loss: 0.7227 - val_accuracy: 0.8430\n",
      "Epoch 18/20\n",
      "2128/2128 [==============================] - 11s 5ms/step - loss: 0.0831 - accuracy: 0.9704 - val_loss: 0.7579 - val_accuracy: 0.8406\n",
      "Epoch 19/20\n",
      "2128/2128 [==============================] - 11s 5ms/step - loss: 0.0812 - accuracy: 0.9711 - val_loss: 0.7710 - val_accuracy: 0.8399\n",
      "Epoch 20/20\n",
      "2128/2128 [==============================] - 11s 5ms/step - loss: 0.0773 - accuracy: 0.9723 - val_loss: 0.7467 - val_accuracy: 0.8382\n",
      "-----------\n",
      "1537/1537 - 3s - loss: 0.7401 - accuracy: 0.8351\n",
      "test_loss : 0.7401014566421509\n",
      "test_auc : 0.8350997567176819\n",
      "-----------\n"
     ]
    },
    {
     "data": {
      "image/png": "[encoded data removed]",
      "text/plain": [
       "<Figure size 432x288 with 1 Axes>"
      ]
     },
     "metadata": {
      "needs_background": "light"
     },
     "output_type": "display_data"
    },
    {
     "data": {
      "image/png": "[encoded data removed]",
      "text/plain": [
       "<Figure size 432x288 with 1 Axes>"
      ]
     },
     "metadata": {
      "needs_background": "light"
     },
     "output_type": "display_data"
    }
   ],
   "source": [
    "model_train(model_4,20,64)"
   ]
  },
  {
   "cell_type": "code",
   "execution_count": 50,
   "id": "777fdd12",
   "metadata": {},
   "outputs": [
    {
     "name": "stdout",
     "output_type": "stream",
     "text": [
      "Epoch 1/30\n",
      "532/532 [==============================] - 3s 6ms/step - loss: 0.0404 - accuracy: 0.9859 - val_loss: 1.2790 - val_accuracy: 0.8212\n",
      "Epoch 2/30\n",
      "532/532 [==============================] - 3s 6ms/step - loss: 0.0352 - accuracy: 0.9879 - val_loss: 1.2917 - val_accuracy: 0.8204\n",
      "Epoch 3/30\n",
      "532/532 [==============================] - 3s 5ms/step - loss: 0.0342 - accuracy: 0.9880 - val_loss: 1.3772 - val_accuracy: 0.8220\n",
      "Epoch 4/30\n",
      "532/532 [==============================] - 3s 6ms/step - loss: 0.0330 - accuracy: 0.9886 - val_loss: 1.4333 - val_accuracy: 0.8215\n",
      "Epoch 5/30\n",
      "532/532 [==============================] - 3s 6ms/step - loss: 0.0360 - accuracy: 0.9876 - val_loss: 1.4293 - val_accuracy: 0.8239\n",
      "Epoch 6/30\n",
      "532/532 [==============================] - 3s 5ms/step - loss: 0.0336 - accuracy: 0.9884 - val_loss: 1.4726 - val_accuracy: 0.8236\n",
      "Epoch 7/30\n",
      "532/532 [==============================] - 3s 6ms/step - loss: 0.0315 - accuracy: 0.9890 - val_loss: 1.5323 - val_accuracy: 0.8226\n",
      "Epoch 8/30\n",
      "532/532 [==============================] - 3s 6ms/step - loss: 0.0331 - accuracy: 0.9883 - val_loss: 1.5614 - val_accuracy: 0.8212\n",
      "Epoch 9/30\n",
      "532/532 [==============================] - 3s 5ms/step - loss: 0.0316 - accuracy: 0.9887 - val_loss: 1.6353 - val_accuracy: 0.8245\n",
      "Epoch 10/30\n",
      "532/532 [==============================] - 3s 6ms/step - loss: 0.0312 - accuracy: 0.9892 - val_loss: 1.6206 - val_accuracy: 0.8216\n",
      "Epoch 11/30\n",
      "532/532 [==============================] - 3s 6ms/step - loss: 0.0317 - accuracy: 0.9886 - val_loss: 1.6559 - val_accuracy: 0.8204\n",
      "Epoch 12/30\n",
      "532/532 [==============================] - 3s 6ms/step - loss: 0.0307 - accuracy: 0.9892 - val_loss: 1.6730 - val_accuracy: 0.8213\n",
      "Epoch 13/30\n",
      "532/532 [==============================] - 3s 6ms/step - loss: 0.0300 - accuracy: 0.9893 - val_loss: 1.6846 - val_accuracy: 0.8222\n",
      "Epoch 14/30\n",
      "532/532 [==============================] - 3s 6ms/step - loss: 0.0323 - accuracy: 0.9887 - val_loss: 1.6439 - val_accuracy: 0.8195\n",
      "Epoch 15/30\n",
      "532/532 [==============================] - 3s 6ms/step - loss: 0.0283 - accuracy: 0.9899 - val_loss: 1.7365 - val_accuracy: 0.8210\n",
      "Epoch 16/30\n",
      "532/532 [==============================] - 3s 6ms/step - loss: 0.0284 - accuracy: 0.9900 - val_loss: 1.7556 - val_accuracy: 0.8198\n",
      "Epoch 17/30\n",
      "532/532 [==============================] - 3s 6ms/step - loss: 0.0318 - accuracy: 0.9887 - val_loss: 1.7283 - val_accuracy: 0.8201\n",
      "Epoch 18/30\n",
      "532/532 [==============================] - 3s 6ms/step - loss: 0.0276 - accuracy: 0.9901 - val_loss: 1.7750 - val_accuracy: 0.8228\n",
      "Epoch 19/30\n",
      "532/532 [==============================] - 3s 5ms/step - loss: 0.0287 - accuracy: 0.9900 - val_loss: 1.7904 - val_accuracy: 0.8185\n",
      "Epoch 20/30\n",
      "532/532 [==============================] - 3s 6ms/step - loss: 0.0316 - accuracy: 0.9886 - val_loss: 1.7577 - val_accuracy: 0.8247\n",
      "Epoch 21/30\n",
      "532/532 [==============================] - 3s 6ms/step - loss: 0.0287 - accuracy: 0.9901 - val_loss: 1.7911 - val_accuracy: 0.8216\n",
      "Epoch 22/30\n",
      "532/532 [==============================] - 3s 6ms/step - loss: 0.0279 - accuracy: 0.9902 - val_loss: 1.8407 - val_accuracy: 0.8218\n",
      "Epoch 23/30\n",
      "532/532 [==============================] - 3s 5ms/step - loss: 0.0253 - accuracy: 0.9911 - val_loss: 1.8619 - val_accuracy: 0.8224\n",
      "Epoch 24/30\n",
      "532/532 [==============================] - 3s 6ms/step - loss: 0.0238 - accuracy: 0.9914 - val_loss: 1.9224 - val_accuracy: 0.8188\n",
      "Epoch 25/30\n",
      "532/532 [==============================] - 3s 6ms/step - loss: 0.0243 - accuracy: 0.9914 - val_loss: 1.9054 - val_accuracy: 0.8192\n",
      "Epoch 26/30\n",
      "532/532 [==============================] - 3s 5ms/step - loss: 0.0292 - accuracy: 0.9898 - val_loss: 1.8894 - val_accuracy: 0.8225\n",
      "Epoch 27/30\n",
      "532/532 [==============================] - 3s 6ms/step - loss: 0.0260 - accuracy: 0.9906 - val_loss: 1.9056 - val_accuracy: 0.8190\n",
      "Epoch 28/30\n",
      "532/532 [==============================] - 3s 6ms/step - loss: 0.0341 - accuracy: 0.9889 - val_loss: 1.8222 - val_accuracy: 0.8200\n",
      "Epoch 29/30\n",
      "532/532 [==============================] - 3s 6ms/step - loss: 0.0270 - accuracy: 0.9906 - val_loss: 1.8577 - val_accuracy: 0.8178\n",
      "Epoch 30/30\n",
      "532/532 [==============================] - 3s 6ms/step - loss: 0.0237 - accuracy: 0.9916 - val_loss: 1.9596 - val_accuracy: 0.8191\n",
      "-----------\n",
      "1537/1537 - 3s - loss: 1.9151 - accuracy: 0.8186\n",
      "test_loss : 1.9150704145431519\n",
      "test_auc : 0.8186423182487488\n",
      "-----------\n"
     ]
    },
    {
     "data": {
      "image/png": "[encoded data removed]",
      "text/plain": [
       "<Figure size 432x288 with 1 Axes>"
      ]
     },
     "metadata": {
      "needs_background": "light"
     },
     "output_type": "display_data"
    },
    {
     "data": {
      "image/png": "[encoded data removed]",
      "text/plain": [
       "<Figure size 432x288 with 1 Axes>"
      ]
     },
     "metadata": {
      "needs_background": "light"
     },
     "output_type": "display_data"
    }
   ],
   "source": [
    "model_train(model_5,20,512)"
   ]
  },
  {
   "cell_type": "code",
   "execution_count": 51,
   "id": "5f750d1a",
   "metadata": {
    "scrolled": true
   },
   "outputs": [
    {
     "name": "stdout",
     "output_type": "stream",
     "text": [
      "Epoch 1/20\n",
      "266/266 [==============================] - 2s 6ms/step - loss: 0.0219 - accuracy: 0.9923 - val_loss: 1.9500 - val_accuracy: 0.8201\n",
      "Epoch 2/20\n",
      "266/266 [==============================] - 2s 6ms/step - loss: 0.0208 - accuracy: 0.9928 - val_loss: 1.9822 - val_accuracy: 0.8188\n",
      "Epoch 3/20\n",
      "266/266 [==============================] - 2s 6ms/step - loss: 0.0201 - accuracy: 0.9930 - val_loss: 2.0306 - val_accuracy: 0.8196\n",
      "Epoch 4/20\n",
      "266/266 [==============================] - 2s 6ms/step - loss: 0.0198 - accuracy: 0.9931 - val_loss: 2.0737 - val_accuracy: 0.8192\n",
      "Epoch 5/20\n",
      "266/266 [==============================] - 2s 6ms/step - loss: 0.0203 - accuracy: 0.9930 - val_loss: 2.0496 - val_accuracy: 0.8198\n",
      "Epoch 6/20\n",
      "266/266 [==============================] - 2s 6ms/step - loss: 0.0200 - accuracy: 0.9930 - val_loss: 2.0816 - val_accuracy: 0.8188\n",
      "Epoch 7/20\n",
      "266/266 [==============================] - 2s 6ms/step - loss: 0.0194 - accuracy: 0.9931 - val_loss: 2.1608 - val_accuracy: 0.8193\n",
      "Epoch 8/20\n",
      "266/266 [==============================] - 2s 6ms/step - loss: 0.0215 - accuracy: 0.9926 - val_loss: 2.1399 - val_accuracy: 0.8184\n",
      "Epoch 9/20\n",
      "266/266 [==============================] - 2s 6ms/step - loss: 0.0230 - accuracy: 0.9922 - val_loss: 2.1345 - val_accuracy: 0.8182\n",
      "Epoch 10/20\n",
      "266/266 [==============================] - 2s 6ms/step - loss: 0.0221 - accuracy: 0.9918 - val_loss: 2.2171 - val_accuracy: 0.8165\n",
      "Epoch 11/20\n",
      "266/266 [==============================] - 2s 6ms/step - loss: 0.0215 - accuracy: 0.9925 - val_loss: 2.1542 - val_accuracy: 0.8177\n",
      "Epoch 12/20\n",
      "266/266 [==============================] - 2s 6ms/step - loss: 0.0197 - accuracy: 0.9930 - val_loss: 2.2096 - val_accuracy: 0.8192\n",
      "Epoch 13/20\n",
      "266/266 [==============================] - 2s 6ms/step - loss: 0.0198 - accuracy: 0.9931 - val_loss: 2.2236 - val_accuracy: 0.8183\n",
      "Epoch 14/20\n",
      "266/266 [==============================] - 2s 6ms/step - loss: 0.0212 - accuracy: 0.9929 - val_loss: 2.2449 - val_accuracy: 0.8203\n",
      "Epoch 15/20\n",
      "266/266 [==============================] - 2s 6ms/step - loss: 0.0187 - accuracy: 0.9937 - val_loss: 2.2774 - val_accuracy: 0.8182\n",
      "Epoch 16/20\n",
      "266/266 [==============================] - 2s 6ms/step - loss: 0.0180 - accuracy: 0.9936 - val_loss: 2.3271 - val_accuracy: 0.8181\n",
      "Epoch 17/20\n",
      "266/266 [==============================] - 2s 6ms/step - loss: 0.0186 - accuracy: 0.9933 - val_loss: 2.3412 - val_accuracy: 0.8195\n",
      "Epoch 18/20\n",
      "266/266 [==============================] - 2s 6ms/step - loss: 0.0181 - accuracy: 0.9935 - val_loss: 2.3995 - val_accuracy: 0.8184\n",
      "Epoch 19/20\n",
      "266/266 [==============================] - 2s 6ms/step - loss: 0.0220 - accuracy: 0.9925 - val_loss: 2.3913 - val_accuracy: 0.8126\n",
      "Epoch 20/20\n",
      "266/266 [==============================] - 2s 6ms/step - loss: 0.0257 - accuracy: 0.9913 - val_loss: 2.2840 - val_accuracy: 0.8180\n",
      "-----------\n",
      "1537/1537 - 3s - loss: 2.2482 - accuracy: 0.8151\n",
      "test_loss : 2.2482426166534424\n",
      "test_auc : 0.815082311630249\n",
      "-----------\n"
     ]
    },
    {
     "data": {
      "image/png": "[encoded data removed]",
      "text/plain": [
       "<Figure size 432x288 with 1 Axes>"
      ]
     },
     "metadata": {
      "needs_background": "light"
     },
     "output_type": "display_data"
    },
    {
     "data": {
      "image/png": "[encoded data removed]",
      "text/plain": [
       "<Figure size 432x288 with 1 Axes>"
      ]
     },
     "metadata": {
      "needs_background": "light"
     },
     "output_type": "display_data"
    }
   ],
   "source": [
    "model_train(model_6,20,512)"
   ]
  },
  {
   "cell_type": "markdown",
   "id": "54e53a8b",
   "metadata": {},
   "source": [
    "### 성공\n",
    "- 학습 진행간에 'model_train'로 중복 사용시 모델이 가중되어 학습되는 문제가 발생하여 이로인한 과적합이 되는 현상이 발생되었음\n",
    "- 기존에 생성해놨던 'model_train'사용이 아닌 일반적인 compile로 실행하였더니 accuracy가 0.8508을 얻을 수 있었음\n",
    "- 진행했던 모델은 초기 학습 진행시 가장 성능이 높게 나왔던 Bi-LSTM으로 진행하였음"
   ]
  },
  {
   "cell_type": "code",
   "execution_count": 52,
   "id": "5b8c932c",
   "metadata": {},
   "outputs": [
    {
     "name": "stdout",
     "output_type": "stream",
     "text": [
      "Epoch 1/20\n",
      "266/266 [==============================] - 10s 30ms/step - loss: 0.4671 - accuracy: 0.7723 - val_loss: 0.3751 - val_accuracy: 0.8339\n",
      "Epoch 2/20\n",
      "266/266 [==============================] - 7s 27ms/step - loss: 0.3437 - accuracy: 0.8492 - val_loss: 0.3376 - val_accuracy: 0.8495\n",
      "Epoch 3/20\n",
      "266/266 [==============================] - 7s 28ms/step - loss: 0.2974 - accuracy: 0.8721 - val_loss: 0.3211 - val_accuracy: 0.8613\n",
      "Epoch 4/20\n",
      "266/266 [==============================] - 7s 28ms/step - loss: 0.2686 - accuracy: 0.8865 - val_loss: 0.3140 - val_accuracy: 0.8637\n",
      "Epoch 5/20\n",
      "266/266 [==============================] - 7s 28ms/step - loss: 0.2447 - accuracy: 0.8988 - val_loss: 0.3172 - val_accuracy: 0.8663\n",
      "Epoch 6/20\n",
      "266/266 [==============================] - 7s 28ms/step - loss: 0.2223 - accuracy: 0.9092 - val_loss: 0.3222 - val_accuracy: 0.8666\n",
      "Epoch 7/20\n",
      "266/266 [==============================] - 7s 28ms/step - loss: 0.2033 - accuracy: 0.9183 - val_loss: 0.3251 - val_accuracy: 0.8675\n",
      "Epoch 8/20\n",
      "266/266 [==============================] - 7s 28ms/step - loss: 0.1810 - accuracy: 0.9292 - val_loss: 0.3467 - val_accuracy: 0.8645\n",
      "Epoch 9/20\n",
      "266/266 [==============================] - 7s 28ms/step - loss: 0.1632 - accuracy: 0.9369 - val_loss: 0.3663 - val_accuracy: 0.8665\n",
      "Epoch 10/20\n",
      "266/266 [==============================] - 7s 28ms/step - loss: 0.1427 - accuracy: 0.9462 - val_loss: 0.3933 - val_accuracy: 0.8624\n",
      "Epoch 11/20\n",
      "266/266 [==============================] - 7s 28ms/step - loss: 0.1241 - accuracy: 0.9544 - val_loss: 0.4328 - val_accuracy: 0.8553\n",
      "Epoch 12/20\n",
      "266/266 [==============================] - 7s 28ms/step - loss: 0.1124 - accuracy: 0.9589 - val_loss: 0.4445 - val_accuracy: 0.8541\n",
      "Epoch 13/20\n",
      "266/266 [==============================] - 7s 28ms/step - loss: 0.0973 - accuracy: 0.9649 - val_loss: 0.4761 - val_accuracy: 0.8575\n",
      "Epoch 14/20\n",
      "266/266 [==============================] - 7s 28ms/step - loss: 0.0847 - accuracy: 0.9701 - val_loss: 0.5140 - val_accuracy: 0.8557\n",
      "Epoch 15/20\n",
      "266/266 [==============================] - 7s 28ms/step - loss: 0.0737 - accuracy: 0.9740 - val_loss: 0.5374 - val_accuracy: 0.8552\n",
      "Epoch 16/20\n",
      "266/266 [==============================] - 8s 28ms/step - loss: 0.0626 - accuracy: 0.9787 - val_loss: 0.5993 - val_accuracy: 0.8535\n",
      "Epoch 17/20\n",
      "266/266 [==============================] - 8s 28ms/step - loss: 0.0558 - accuracy: 0.9812 - val_loss: 0.6208 - val_accuracy: 0.8537\n",
      "Epoch 18/20\n",
      "266/266 [==============================] - 8s 28ms/step - loss: 0.0502 - accuracy: 0.9830 - val_loss: 0.6464 - val_accuracy: 0.8526\n",
      "Epoch 19/20\n",
      "266/266 [==============================] - 8s 28ms/step - loss: 0.0480 - accuracy: 0.9834 - val_loss: 0.6620 - val_accuracy: 0.8529\n",
      "Epoch 20/20\n",
      "266/266 [==============================] - 8s 28ms/step - loss: 0.0469 - accuracy: 0.9836 - val_loss: 0.7054 - val_accuracy: 0.8482\n"
     ]
    }
   ],
   "source": [
    "model_5.compile(optimizer='adam',\n",
    "              loss='binary_crossentropy',\n",
    "              metrics=['accuracy'])\n",
    "              \n",
    "epochs=20\n",
    "\n",
    "history = model_5.fit(partial_X_train,\n",
    "                    partial_y_train,\n",
    "                    epochs=epochs,\n",
    "                    batch_size=512,\n",
    "                    validation_data=(X_val, y_val),\n",
    "                    verbose=1)"
   ]
  },
  {
   "cell_type": "code",
   "execution_count": 56,
   "id": "42816917",
   "metadata": {},
   "outputs": [
    {
     "name": "stdout",
     "output_type": "stream",
     "text": [
      "1537/1537 - 6s - loss: 0.6938 - accuracy: 0.8508\n",
      "[0.693789005279541, 0.8507842421531677]\n"
     ]
    }
   ],
   "source": [
    "# 테스트셋을 통한 모델 평가\n",
    "results = model_5.evaluate(X_test,  y_test, verbose=2)\n",
    "\n",
    "print(results)"
   ]
  },
  {
   "cell_type": "code",
   "execution_count": 57,
   "id": "b57b4b07",
   "metadata": {},
   "outputs": [
    {
     "name": "stdout",
     "output_type": "stream",
     "text": [
      "dict_keys(['loss', 'accuracy', 'val_loss', 'val_accuracy'])\n"
     ]
    },
    {
     "data": {
      "image/png": "[encoded data removed]",
      "text/plain": [
       "<Figure size 432x288 with 1 Axes>"
      ]
     },
     "metadata": {
      "needs_background": "light"
     },
     "output_type": "display_data"
    },
    {
     "data": {
      "image/png": "[encoded data removed]",
      "text/plain": [
       "<Figure size 432x288 with 1 Axes>"
      ]
     },
     "metadata": {
      "needs_background": "light"
     },
     "output_type": "display_data"
    }
   ],
   "source": [
    "# loss auc 시각화\n",
    "history_dict = history.history\n",
    "print(history_dict.keys()) # epoch에 따른 그래프를 그려볼 수 있는 항목들\n",
    "\n",
    "acc = history_dict['accuracy']\n",
    "val_acc = history_dict['val_accuracy']\n",
    "loss = history_dict['loss']\n",
    "val_loss = history_dict['val_loss']\n",
    "\n",
    "epochs = range(1, len(acc) + 1)\n",
    "\n",
    "# \"bo\"는 \"파란색 점\"입니다\n",
    "plt.plot(epochs, loss, 'bo', label='Training loss')\n",
    "# b는 \"파란 실선\"입니다\n",
    "plt.plot(epochs, val_loss, 'b', label='Validation loss')\n",
    "plt.title('Training and validation loss')\n",
    "plt.xlabel('Epochs')\n",
    "plt.ylabel('Loss')\n",
    "plt.legend()\n",
    "\n",
    "plt.show()\n",
    "\n",
    "plt.clf()   # 그림을 초기화합니다\n",
    "\n",
    "plt.plot(epochs, acc, 'bo', label='Training acc')\n",
    "plt.plot(epochs, val_acc, 'b', label='Validation acc')\n",
    "plt.title('Training and validation accuracy')\n",
    "plt.xlabel('Epochs')\n",
    "plt.ylabel('Accuracy')\n",
    "plt.legend()\n",
    "\n",
    "plt.show()"
   ]
  },
  {
   "cell_type": "markdown",
   "id": "9b8748dd",
   "metadata": {},
   "source": [
    "## 회고\n",
    "- 학습된 Embedding 레이어를 활용한다면 성능개선과 모델구현의 시간감소를 얻을 수 있다는 것을 확인함\n",
    "- 마지막에 기록을 삭제하였지만 bert를 활용한 학습을 시도하였고, 소요되는 학습시간으로 인하여 실험을 도중에 중단하였습니다.\n",
    "    - [bert를 활용한 감성분류](https://colab.research.google.com/drive/1tIf0Ugdqg4qT7gcxia3tL7und64Rv1dP#scrollTo=H5mANMwKkA0D)\n",
    "- 학습 과정간에 early stop을 진행하는 것이 아닌 epochs를 늘려 학습을 진행하여 손실함수의 추이를 지켜보고자 하였고 고저의 차이는 있지만 실험을 진행한 부분까지 val의 loss값과 auc의 값은 train값과의 차이가 커지는 것을 확인하였습니다. 추후 유사 프로젝트 진행시 한번 다시 실험해보고자 합니다."
   ]
  },
  {
   "cell_type": "markdown",
   "id": "9fa66b31",
   "metadata": {},
   "source": [
    "## appendix\n",
    "- 초기 lstm과 bi-lstm의 실험기록입니다."
   ]
  },
  {
   "cell_type": "code",
   "execution_count": 86,
   "id": "1f23baee",
   "metadata": {},
   "outputs": [
    {
     "name": "stdout",
     "output_type": "stream",
     "text": [
      "1537/1537 - 3s - loss: 0.9205 - accuracy: 0.8244\n",
      "[0.9205284714698792, 0.824440062046051]\n"
     ]
    }
   ],
   "source": [
    "# lstm 기록\n",
    "\n",
    "results = model.evaluate(X_test,  y_test, verbose=2)\n",
    "\n",
    "print(results)"
   ]
  },
  {
   "cell_type": "code",
   "execution_count": 87,
   "id": "2ba2b9da",
   "metadata": {},
   "outputs": [
    {
     "name": "stdout",
     "output_type": "stream",
     "text": [
      "dict_keys(['loss', 'accuracy', 'val_loss', 'val_accuracy'])\n"
     ]
    }
   ],
   "source": [
    "# loss auc 시각화\n",
    "history_dict = history.history\n",
    "print(history_dict.keys()) # epoch에 따른 그래프를 그려볼 수 있는 항목들"
   ]
  },
  {
   "cell_type": "code",
   "execution_count": 88,
   "id": "41b6aec6",
   "metadata": {},
   "outputs": [
    {
     "data": {
      "image/png": "[encoded data removed]",
      "text/plain": [
       "<Figure size 432x288 with 1 Axes>"
      ]
     },
     "metadata": {
      "needs_background": "light"
     },
     "output_type": "display_data"
    }
   ],
   "source": [
    "acc = history_dict['accuracy']\n",
    "val_acc = history_dict['val_accuracy']\n",
    "loss = history_dict['loss']\n",
    "val_loss = history_dict['val_loss']\n",
    "\n",
    "epochs = range(1, len(acc) + 1)\n",
    "\n",
    "# \"bo\"는 \"파란색 점\"입니다\n",
    "plt.plot(epochs, loss, 'bo', label='Training loss')\n",
    "# b는 \"파란 실선\"입니다\n",
    "plt.plot(epochs, val_loss, 'b', label='Validation loss')\n",
    "plt.title('Training and validation loss')\n",
    "plt.xlabel('Epochs')\n",
    "plt.ylabel('Loss')\n",
    "plt.legend()\n",
    "\n",
    "plt.show()"
   ]
  },
  {
   "cell_type": "code",
   "execution_count": 89,
   "id": "21def6a6",
   "metadata": {},
   "outputs": [
    {
     "data": {
      "image/png": "[encoded data removed]",
      "text/plain": [
       "<Figure size 432x288 with 1 Axes>"
      ]
     },
     "metadata": {
      "needs_background": "light"
     },
     "output_type": "display_data"
    }
   ],
   "source": [
    "plt.clf()   # 그림을 초기화합니다\n",
    "\n",
    "plt.plot(epochs, acc, 'bo', label='Training acc')\n",
    "plt.plot(epochs, val_acc, 'b', label='Validation acc')\n",
    "plt.title('Training and validation accuracy')\n",
    "plt.xlabel('Epochs')\n",
    "plt.ylabel('Accuracy')\n",
    "plt.legend()\n",
    "\n",
    "plt.show()"
   ]
  },
  {
   "cell_type": "code",
   "execution_count": 90,
   "id": "9ffd3ceb",
   "metadata": {},
   "outputs": [],
   "source": [
    "# 학습한 Embedding 파라미터를 파일에 써서 저장합니다. \n",
    "word2vec_file_path = os.getenv('HOME')+'/aiffel/sentiment_classification/data/word2vec_rnn.txt'\n",
    "f = open(word2vec_file_path, 'w')\n",
    "f.write('{} {}\\n'.format(vocab_size-4, word_vector_dim))  # 몇개의 벡터를 얼마 사이즈로 기재할지 타이틀을 씁니다.\n",
    "\n",
    "# 단어 개수(에서 특수문자 4개는 제외하고)만큼의 워드 벡터를 파일에 기록합니다. \n",
    "vectors = model.get_weights()[0]\n",
    "for i in range(4,vocab_size):\n",
    "    f.write('{} {}\\n'.format(index_to_word[i], ' '.join(map(str, list(vectors[i, :])))))\n",
    "f.close()"
   ]
  },
  {
   "cell_type": "code",
   "execution_count": 91,
   "id": "811919f5",
   "metadata": {},
   "outputs": [],
   "source": [
    "word_vectors = Word2VecKeyedVectors.load_word2vec_format(word2vec_file_path, binary=False)"
   ]
  },
  {
   "cell_type": "code",
   "execution_count": 92,
   "id": "ed8423f1",
   "metadata": {},
   "outputs": [
    {
     "data": {
      "text/plain": [
       "array([-0.09365013, -0.18111587,  0.11508346,  0.02602549, -0.01304742,\n",
       "       -0.15247028,  0.05695869, -0.08304574,  0.21775301,  0.06961625,\n",
       "       -0.19662194,  0.16037063,  0.0491562 , -0.13886473,  0.12941886,\n",
       "        0.00200075], dtype=float32)"
      ]
     },
     "execution_count": 92,
     "metadata": {},
     "output_type": "execute_result"
    }
   ],
   "source": [
    "from gensim.models.keyedvectors import Word2VecKeyedVectors\n",
    "\n",
    "word_vectors = Word2VecKeyedVectors.load_word2vec_format(word2vec_file_path, binary=False)\n",
    "vector = word_vectors['재미']\n",
    "vector"
   ]
  },
  {
   "cell_type": "code",
   "execution_count": 93,
   "id": "1bd86945",
   "metadata": {},
   "outputs": [
    {
     "data": {
      "text/plain": [
       "[('긴장감', 0.8188729882240295),\n",
       " ('의리', 0.7891600728034973),\n",
       " ('몰입', 0.7726874351501465),\n",
       " ('흥미', 0.75739586353302),\n",
       " ('진', 0.7436588406562805),\n",
       " ('이렇게', 0.7202274799346924),\n",
       " ('읽', 0.7063639760017395),\n",
       " ('25', 0.7062981724739075),\n",
       " ('대립', 0.7055391669273376),\n",
       " ('강호동', 0.6997005343437195)]"
      ]
     },
     "execution_count": 93,
     "metadata": {},
     "output_type": "execute_result"
    }
   ],
   "source": [
    "word_vectors.similar_by_word(\"재미\")"
   ]
  },
  {
   "cell_type": "code",
   "execution_count": 75,
   "id": "e7caa268",
   "metadata": {},
   "outputs": [
    {
     "data": {
      "text/plain": [
       "array([[   0,    0,    0, ...,   20,   33,  748],\n",
       "       [   0,    0,    0, ...,   15,   44,  391],\n",
       "       [   0,    0,    0, ...,   24,  205,    2],\n",
       "       ...,\n",
       "       [   0,    0,    0, ..., 2710,    6,   18],\n",
       "       [   0,    0,    0, ...,   60,  395, 8572],\n",
       "       [   0,    0,    0, ...,   88, 2740,    5]], dtype=int32)"
      ]
     },
     "execution_count": 75,
     "metadata": {},
     "output_type": "execute_result"
    }
   ],
   "source": [
    "X_train"
   ]
  },
  {
   "cell_type": "markdown",
   "id": "9a093dde",
   "metadata": {},
   "source": [
    "### 2) BI_LSTM 진행"
   ]
  },
  {
   "cell_type": "code",
   "execution_count": 97,
   "id": "e58f86bc",
   "metadata": {},
   "outputs": [],
   "source": [
    "import re\n",
    "from tensorflow.keras.layers import Embedding, Dense, LSTM, Bidirectional\n",
    "from tensorflow.keras.models import Sequential\n",
    "from tensorflow.keras.models import load_model\n",
    "from tensorflow.keras.callbacks import EarlyStopping, ModelCheckpoint\n",
    "\n",
    "embedding_dim = 100\n",
    "hidden_units = 128\n",
    "\n",
    "model = keras.Sequential()\n",
    "model.add(keras.layers.Embedding(vocab_size, word_vector_dim, input_shape=(None,)))\n",
    "model.add(keras.layers.Bidirectional(LSTM(hidden_units))) # Bidirectional LSTM을 사용\n",
    "model.add(keras.layers.Dense(8, activation='relu'))\n",
    "model.add(keras.layers.Dense(1, activation='sigmoid'))\n",
    "\n",
    "\n",
    "model.summary()"
   ]
  },
  {
   "cell_type": "code",
   "execution_count": 98,
   "id": "a91ceb4e",
   "metadata": {},
   "outputs": [
    {
     "name": "stdout",
     "output_type": "stream",
     "text": [
      "Model: \"sequential_4\"\n",
      "_________________________________________________________________\n",
      "Layer (type)                 Output Shape              Param #   \n",
      "=================================================================\n",
      "embedding_3 (Embedding)      (None, None, 16)          160000    \n",
      "_________________________________________________________________\n",
      "bidirectional (Bidirectional (None, 256)               148480    \n",
      "_________________________________________________________________\n",
      "dense_4 (Dense)              (None, 8)                 2056      \n",
      "_________________________________________________________________\n",
      "dense_5 (Dense)              (None, 1)                 9         \n",
      "=================================================================\n",
      "Total params: 310,545\n",
      "Trainable params: 310,545\n",
      "Non-trainable params: 0\n",
      "_________________________________________________________________\n"
     ]
    }
   ],
   "source": [
    "embedding_dim = 100\n",
    "hidden_units = 128\n",
    "\n",
    "model = keras.Sequential()\n",
    "model.add(keras.layers.Embedding(vocab_size, word_vector_dim, input_shape=(None,)))\n",
    "model.add(keras.layers.Bidirectional(LSTM(hidden_units))) # Bidirectional LSTM을 사용\n",
    "model.add(keras.layers.Dense(8, activation='relu'))\n",
    "model.add(keras.layers.Dense(1, activation='sigmoid'))\n",
    "\n",
    "\n",
    "model.summary()\n",
    "# # es = EarlyStopping(monitor='val_loss', mode='min', verbose=1, patience=4)\n",
    "# mc = ModelCheckpoint('best_model.h5', monitor='val_acc', mode='max', verbose=1, save_best_only=True)\n",
    "\n",
    "# model.compile(optimizer='rmsprop', loss='binary_crossentropy', metrics=['acc'])\n",
    "# history = model.fit(X_train, y_train, epochs=15, callbacks=[es, mc], batch_size=256, validation_split=0.2)"
   ]
  },
  {
   "cell_type": "code",
   "execution_count": 99,
   "id": "3771ffcb",
   "metadata": {},
   "outputs": [
    {
     "name": "stdout",
     "output_type": "stream",
     "text": [
      "Epoch 1/50\n",
      "266/266 [==============================] - 10s 25ms/step - loss: 0.4845 - accuracy: 0.7555 - val_loss: 0.3485 - val_accuracy: 0.8517\n",
      "Epoch 2/50\n",
      "266/266 [==============================] - 6s 22ms/step - loss: 0.3381 - accuracy: 0.8566 - val_loss: 0.3416 - val_accuracy: 0.8509\n",
      "Epoch 3/50\n",
      "266/266 [==============================] - 6s 22ms/step - loss: 0.3209 - accuracy: 0.8649 - val_loss: 0.3413 - val_accuracy: 0.8512\n",
      "Epoch 4/50\n",
      "266/266 [==============================] - 6s 22ms/step - loss: 0.3095 - accuracy: 0.8700 - val_loss: 0.3391 - val_accuracy: 0.8551\n",
      "Epoch 5/50\n",
      "266/266 [==============================] - 6s 22ms/step - loss: 0.2973 - accuracy: 0.8766 - val_loss: 0.3350 - val_accuracy: 0.8540\n",
      "Epoch 6/50\n",
      "266/266 [==============================] - 6s 22ms/step - loss: 0.2819 - accuracy: 0.8839 - val_loss: 0.3328 - val_accuracy: 0.8577\n",
      "Epoch 7/50\n",
      "266/266 [==============================] - 6s 23ms/step - loss: 0.2631 - accuracy: 0.8931 - val_loss: 0.3304 - val_accuracy: 0.8582\n",
      "Epoch 8/50\n",
      "266/266 [==============================] - 6s 23ms/step - loss: 0.2430 - accuracy: 0.9019 - val_loss: 0.3436 - val_accuracy: 0.8564\n",
      "Epoch 9/50\n",
      "266/266 [==============================] - 6s 23ms/step - loss: 0.2261 - accuracy: 0.9096 - val_loss: 0.3594 - val_accuracy: 0.8549\n",
      "Epoch 10/50\n",
      "266/266 [==============================] - 6s 23ms/step - loss: 0.2109 - accuracy: 0.9171 - val_loss: 0.3608 - val_accuracy: 0.8551\n",
      "Epoch 11/50\n",
      "266/266 [==============================] - 6s 23ms/step - loss: 0.1965 - accuracy: 0.9229 - val_loss: 0.3950 - val_accuracy: 0.8515\n",
      "Epoch 12/50\n",
      "266/266 [==============================] - 6s 23ms/step - loss: 0.1829 - accuracy: 0.9290 - val_loss: 0.3984 - val_accuracy: 0.8483\n",
      "Epoch 13/50\n",
      "266/266 [==============================] - 6s 23ms/step - loss: 0.1724 - accuracy: 0.9337 - val_loss: 0.4263 - val_accuracy: 0.8496\n",
      "Epoch 14/50\n",
      "266/266 [==============================] - 6s 23ms/step - loss: 0.1620 - accuracy: 0.9381 - val_loss: 0.4403 - val_accuracy: 0.8472\n",
      "Epoch 15/50\n",
      "266/266 [==============================] - 6s 23ms/step - loss: 0.1528 - accuracy: 0.9423 - val_loss: 0.4631 - val_accuracy: 0.8436\n",
      "Epoch 16/50\n",
      "266/266 [==============================] - 6s 23ms/step - loss: 0.1449 - accuracy: 0.9453 - val_loss: 0.4764 - val_accuracy: 0.8441\n",
      "Epoch 17/50\n",
      "266/266 [==============================] - 6s 23ms/step - loss: 0.1380 - accuracy: 0.9478 - val_loss: 0.5237 - val_accuracy: 0.8409\n",
      "Epoch 18/50\n",
      "266/266 [==============================] - 6s 23ms/step - loss: 0.1316 - accuracy: 0.9503 - val_loss: 0.5271 - val_accuracy: 0.8429\n",
      "Epoch 19/50\n",
      "266/266 [==============================] - 6s 23ms/step - loss: 0.1235 - accuracy: 0.9543 - val_loss: 0.5397 - val_accuracy: 0.8416\n",
      "Epoch 20/50\n",
      "266/266 [==============================] - 6s 23ms/step - loss: 0.1175 - accuracy: 0.9564 - val_loss: 0.5795 - val_accuracy: 0.8419\n",
      "Epoch 21/50\n",
      "266/266 [==============================] - 6s 23ms/step - loss: 0.1133 - accuracy: 0.9579 - val_loss: 0.5884 - val_accuracy: 0.8400\n",
      "Epoch 22/50\n",
      "266/266 [==============================] - 6s 23ms/step - loss: 0.1073 - accuracy: 0.9602 - val_loss: 0.6620 - val_accuracy: 0.8409\n",
      "Epoch 23/50\n",
      "266/266 [==============================] - 6s 23ms/step - loss: 0.1016 - accuracy: 0.9627 - val_loss: 0.6641 - val_accuracy: 0.8412\n",
      "Epoch 24/50\n",
      "266/266 [==============================] - 6s 23ms/step - loss: 0.0973 - accuracy: 0.9646 - val_loss: 0.7034 - val_accuracy: 0.8403\n",
      "Epoch 25/50\n",
      "266/266 [==============================] - 6s 23ms/step - loss: 0.0932 - accuracy: 0.9657 - val_loss: 0.7084 - val_accuracy: 0.8385\n",
      "Epoch 26/50\n",
      "266/266 [==============================] - 6s 23ms/step - loss: 0.0895 - accuracy: 0.9673 - val_loss: 0.7164 - val_accuracy: 0.8369\n",
      "Epoch 27/50\n",
      "266/266 [==============================] - 6s 23ms/step - loss: 0.0868 - accuracy: 0.9683 - val_loss: 0.7018 - val_accuracy: 0.8385\n",
      "Epoch 28/50\n",
      "266/266 [==============================] - 6s 23ms/step - loss: 0.0836 - accuracy: 0.9694 - val_loss: 0.6978 - val_accuracy: 0.8365\n",
      "Epoch 29/50\n",
      "266/266 [==============================] - 6s 23ms/step - loss: 0.0786 - accuracy: 0.9715 - val_loss: 0.7670 - val_accuracy: 0.8351\n",
      "Epoch 30/50\n",
      "266/266 [==============================] - 6s 23ms/step - loss: 0.0762 - accuracy: 0.9724 - val_loss: 0.7928 - val_accuracy: 0.8336\n",
      "Epoch 31/50\n",
      "266/266 [==============================] - 6s 23ms/step - loss: 0.0742 - accuracy: 0.9731 - val_loss: 0.7930 - val_accuracy: 0.8364\n",
      "Epoch 32/50\n",
      "266/266 [==============================] - 6s 23ms/step - loss: 0.0711 - accuracy: 0.9745 - val_loss: 0.8804 - val_accuracy: 0.8353\n",
      "Epoch 33/50\n",
      "266/266 [==============================] - 6s 23ms/step - loss: 0.0704 - accuracy: 0.9749 - val_loss: 0.8242 - val_accuracy: 0.8331\n",
      "Epoch 34/50\n",
      "266/266 [==============================] - 6s 23ms/step - loss: 0.0664 - accuracy: 0.9766 - val_loss: 0.8578 - val_accuracy: 0.8343\n",
      "Epoch 35/50\n",
      "266/266 [==============================] - 6s 23ms/step - loss: 0.0636 - accuracy: 0.9776 - val_loss: 0.8829 - val_accuracy: 0.8301\n",
      "Epoch 36/50\n",
      "266/266 [==============================] - 6s 23ms/step - loss: 0.0620 - accuracy: 0.9777 - val_loss: 0.8954 - val_accuracy: 0.8299\n",
      "Epoch 37/50\n",
      "266/266 [==============================] - 6s 23ms/step - loss: 0.0609 - accuracy: 0.9779 - val_loss: 0.9553 - val_accuracy: 0.8338\n",
      "Epoch 38/50\n",
      "266/266 [==============================] - 6s 23ms/step - loss: 0.0570 - accuracy: 0.9798 - val_loss: 0.9623 - val_accuracy: 0.8332\n",
      "Epoch 39/50\n",
      "266/266 [==============================] - 6s 23ms/step - loss: 0.0563 - accuracy: 0.9802 - val_loss: 0.9606 - val_accuracy: 0.8348\n",
      "Epoch 40/50\n",
      "266/266 [==============================] - 6s 23ms/step - loss: 0.0550 - accuracy: 0.9803 - val_loss: 1.0322 - val_accuracy: 0.8295\n",
      "Epoch 41/50\n",
      "266/266 [==============================] - 6s 23ms/step - loss: 0.0536 - accuracy: 0.9811 - val_loss: 0.9907 - val_accuracy: 0.8336\n",
      "Epoch 42/50\n",
      "266/266 [==============================] - 6s 23ms/step - loss: 0.0520 - accuracy: 0.9816 - val_loss: 0.9958 - val_accuracy: 0.8316\n",
      "Epoch 43/50\n",
      "266/266 [==============================] - 6s 23ms/step - loss: 0.0510 - accuracy: 0.9821 - val_loss: 1.0454 - val_accuracy: 0.8280\n",
      "Epoch 44/50\n",
      "266/266 [==============================] - 6s 23ms/step - loss: 0.0505 - accuracy: 0.9819 - val_loss: 1.0115 - val_accuracy: 0.8296\n",
      "Epoch 45/50\n",
      "266/266 [==============================] - 6s 23ms/step - loss: 0.0478 - accuracy: 0.9832 - val_loss: 1.0517 - val_accuracy: 0.8274\n",
      "Epoch 46/50\n",
      "266/266 [==============================] - 6s 23ms/step - loss: 0.0463 - accuracy: 0.9841 - val_loss: 1.0840 - val_accuracy: 0.8315\n",
      "Epoch 47/50\n",
      "266/266 [==============================] - 6s 23ms/step - loss: 0.0459 - accuracy: 0.9838 - val_loss: 1.1219 - val_accuracy: 0.8305\n",
      "Epoch 48/50\n",
      "266/266 [==============================] - 6s 23ms/step - loss: 0.0454 - accuracy: 0.9844 - val_loss: 1.0932 - val_accuracy: 0.8264\n",
      "Epoch 49/50\n",
      "266/266 [==============================] - 6s 23ms/step - loss: 0.0457 - accuracy: 0.9841 - val_loss: 1.0472 - val_accuracy: 0.8278\n",
      "Epoch 50/50\n",
      "266/266 [==============================] - 6s 23ms/step - loss: 0.0426 - accuracy: 0.9851 - val_loss: 1.1373 - val_accuracy: 0.8271\n"
     ]
    }
   ],
   "source": [
    "model.compile(optimizer='adam',\n",
    "              loss='binary_crossentropy',\n",
    "              metrics=['accuracy'])\n",
    "              \n",
    "epochs=50  # 몇 epoch를 훈련하면 좋을지 결과를 보면서 바꾸어 봅시다. \n",
    "\n",
    "history = model.fit(partial_X_train,\n",
    "                    partial_y_train,\n",
    "                    epochs=epochs,\n",
    "                    batch_size=512,\n",
    "                    validation_data=(X_val, y_val),\n",
    "                    verbose=1)"
   ]
  },
  {
   "cell_type": "code",
   "execution_count": 100,
   "id": "bc80c3d9",
   "metadata": {},
   "outputs": [
    {
     "name": "stdout",
     "output_type": "stream",
     "text": [
      "1537/1537 - 6s - loss: 1.1223 - accuracy: 0.8252\n",
      "[1.1223194599151611, 0.8252334594726562]\n"
     ]
    }
   ],
   "source": [
    "#학습이 끝난 모델을 테스트셋으로 평가\n",
    "results = model.evaluate(X_test,  y_test, verbose=2)\n",
    "\n",
    "print(results)"
   ]
  },
  {
   "cell_type": "code",
   "execution_count": 105,
   "id": "e6673151",
   "metadata": {},
   "outputs": [
    {
     "name": "stdout",
     "output_type": "stream",
     "text": [
      "dict_keys(['loss', 'accuracy', 'val_loss', 'val_accuracy'])\n"
     ]
    },
    {
     "data": {
      "image/png": "[encoded data removed]",
      "text/plain": [
       "<Figure size 432x288 with 1 Axes>"
      ]
     },
     "metadata": {
      "needs_background": "light"
     },
     "output_type": "display_data"
    },
    {
     "data": {
      "image/png": "[encoded data removed]",
      "text/plain": [
       "<Figure size 432x288 with 1 Axes>"
      ]
     },
     "metadata": {
      "needs_background": "light"
     },
     "output_type": "display_data"
    },
    {
     "data": {
      "text/plain": [
       "[('블리', 0.7676373720169067),\n",
       " ('로맨스', 0.765102207660675),\n",
       " ('폭발', 0.7389097213745117),\n",
       " ('해서인지', 0.7310803532600403),\n",
       " ('유오', 0.7213609218597412),\n",
       " ('..;', 0.7169008255004883),\n",
       " ('포인트', 0.7114329934120178),\n",
       " ('..?', 0.71129310131073),\n",
       " ('늬', 0.710490882396698),\n",
       " ('동시', 0.7022039890289307)]"
      ]
     },
     "execution_count": 105,
     "metadata": {},
     "output_type": "execute_result"
    }
   ],
   "source": [
    "# loss auc 시각화\n",
    "history_dict = history.history\n",
    "print(history_dict.keys()) # epoch에 따른 그래프를 그려볼 수 있는 항목들\n",
    "\n",
    "acc = history_dict['accuracy']\n",
    "val_acc = history_dict['val_accuracy']\n",
    "loss = history_dict['loss']\n",
    "val_loss = history_dict['val_loss']\n",
    "\n",
    "epochs = range(1, len(acc) + 1)\n",
    "\n",
    "# \"bo\"는 \"파란색 점\"입니다\n",
    "plt.plot(epochs, loss, 'bo', label='Training loss')\n",
    "# b는 \"파란 실선\"입니다\n",
    "plt.plot(epochs, val_loss, 'b', label='Validation loss')\n",
    "plt.title('Training and validation loss')\n",
    "plt.xlabel('Epochs')\n",
    "plt.ylabel('Loss')\n",
    "plt.legend()\n",
    "\n",
    "plt.show()\n",
    "\n",
    "plt.clf()   # 그림을 초기화합니다\n",
    "\n",
    "plt.plot(epochs, acc, 'bo', label='Training acc')\n",
    "plt.plot(epochs, val_acc, 'b', label='Validation acc')\n",
    "plt.title('Training and validation accuracy')\n",
    "plt.xlabel('Epochs')\n",
    "plt.ylabel('Accuracy')\n",
    "plt.legend()\n",
    "\n",
    "plt.show()\n",
    "\n",
    "# 학습한 Embedding 파라미터를 파일에 써서 저장합니다. \n",
    "word2vec_file_path = os.getenv('HOME')+'/aiffel/sentiment_classification/data/word2vec_rnn.txt'\n",
    "f = open(word2vec_file_path, 'w')\n",
    "f.write('{} {}\\n'.format(vocab_size-4, word_vector_dim))  # 몇개의 벡터를 얼마 사이즈로 기재할지 타이틀을 씁니다.\n",
    "\n",
    "# 단어 개수(에서 특수문자 4개는 제외하고)만큼의 워드 벡터를 파일에 기록합니다. \n",
    "vectors = model.get_weights()[0]\n",
    "for i in range(4,vocab_size):\n",
    "    f.write('{} {}\\n'.format(index_to_word[i], ' '.join(map(str, list(vectors[i, :])))))\n",
    "f.close()\n",
    "\n",
    "word_vectors = Word2VecKeyedVectors.load_word2vec_format(word2vec_file_path, binary=False)\n",
    "\n",
    "word_vectors.similar_by_word(\"재미\")"
   ]
  },
  {
   "cell_type": "code",
   "execution_count": null,
   "id": "9b9527eb",
   "metadata": {},
   "outputs": [],
   "source": []
  }
 ],
 "metadata": {
  "kernelspec": {
   "display_name": "Python 3 (ipykernel)",
   "language": "python",
   "name": "python3"
  },
  "language_info": {
   "codemirror_mode": {
    "name": "ipython",
    "version": 3
   },
   "file_extension": ".py",
   "mimetype": "text/x-python",
   "name": "python",
   "nbconvert_exporter": "python",
   "pygments_lexer": "ipython3",
   "version": "3.9.7"
  }
 },
 "nbformat": 4,
 "nbformat_minor": 5
}
